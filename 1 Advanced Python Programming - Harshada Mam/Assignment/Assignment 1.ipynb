{
 "cells": [
  {
   "cell_type": "markdown",
   "id": "5d7e8219",
   "metadata": {},
   "source": [
    "# Assignment on Class and Object\n",
    "\n",
    "### Create a class 'Product' has a parameterised constructor '__init__()' that takes 'name','price' and 'quantity' as parameters. \n",
    "### Inside the constructor these parameters are assigning to the corresponding instance variables 'self.name','self.price' and 'self.quantity'.\n",
    "### The class also includes a 'display_info()' that prints information about the product, including its name, price and quantity."
   ]
  },
  {
   "cell_type": "code",
   "execution_count": 1,
   "id": "33ced249",
   "metadata": {},
   "outputs": [
    {
     "name": "stdout",
     "output_type": "stream",
     "text": [
      "Product Name: Phone\n",
      "Price: 999.99\n",
      "Quantity: 5\n"
     ]
    }
   ],
   "source": [
    "# Product Class Definition\n",
    "class Product:\n",
    "    def __init__(self, name, price, quantity):\n",
    "        self.name = name\n",
    "        self.price = price\n",
    "        self.quantity = quantity\n",
    "\n",
    "    # Display Product Information\n",
    "    def display_info(self):\n",
    "        print(\"Product Name:\", self.name)\n",
    "        print(\"Price:\", self.price)\n",
    "        print(\"Quantity:\", self.quantity)\n",
    "\n",
    "# Create an instance of the Product class\n",
    "product1 = Product(\"Phone\", 999.99, 5)\n",
    "\n",
    "# Call the display_info method to show product information\n",
    "product1.display_info()\n"
   ]
  },
  {
   "cell_type": "markdown",
   "id": "fd4dd771",
   "metadata": {},
   "source": [
    "# Copyright :- Patel Nisarg"
   ]
  }
 ],
 "metadata": {
  "kernelspec": {
   "display_name": "Python 3 (ipykernel)",
   "language": "python",
   "name": "python3"
  },
  "language_info": {
   "codemirror_mode": {
    "name": "ipython",
    "version": 3
   },
   "file_extension": ".py",
   "mimetype": "text/x-python",
   "name": "python",
   "nbconvert_exporter": "python",
   "pygments_lexer": "ipython3",
   "version": "3.10.9"
  }
 },
 "nbformat": 4,
 "nbformat_minor": 5
}
