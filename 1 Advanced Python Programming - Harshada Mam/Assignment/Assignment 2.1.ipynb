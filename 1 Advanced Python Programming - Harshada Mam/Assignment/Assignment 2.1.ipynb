{
 "cells": [
  {
   "cell_type": "code",
   "execution_count": 1,
   "id": "bc4a90a1",
   "metadata": {},
   "outputs": [
    {
     "name": "stdout",
     "output_type": "stream",
     "text": [
      "Stranger Things\n",
      "Mate Duffer\n",
      "2020\n"
     ]
    }
   ],
   "source": [
    "class Book:\n",
    "    def __init__(self):\n",
    "        self.title = \"Stranger Things\"\n",
    "        self.author = \"Mate Duffer\"\n",
    "        self.publication_year = 2020\n",
    "\n",
    "# Creating an instance of the Book class using the non-parameterized constructor\n",
    "book = Book()\n",
    "\n",
    "# Accessing the attributes of the book\n",
    "print(book.title)  \n",
    "print(book.author)  \n",
    "print(book.publication_year)"
   ]
  }
 ],
 "metadata": {
  "kernelspec": {
   "display_name": "Python 3 (ipykernel)",
   "language": "python",
   "name": "python3"
  },
  "language_info": {
   "codemirror_mode": {
    "name": "ipython",
    "version": 3
   },
   "file_extension": ".py",
   "mimetype": "text/x-python",
   "name": "python",
   "nbconvert_exporter": "python",
   "pygments_lexer": "ipython3",
   "version": "3.10.9"
  }
 },
 "nbformat": 4,
 "nbformat_minor": 5
}
