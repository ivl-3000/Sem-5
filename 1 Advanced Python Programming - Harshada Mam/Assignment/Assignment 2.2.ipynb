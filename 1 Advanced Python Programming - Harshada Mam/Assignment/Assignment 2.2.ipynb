{
 "cells": [
  {
   "cell_type": "code",
   "execution_count": 1,
   "id": "fee6c3e2",
   "metadata": {},
   "outputs": [
    {
     "name": "stdout",
     "output_type": "stream",
     "text": [
      "100\n",
      "40\n",
      "Virat Kohli\n"
     ]
    }
   ],
   "source": [
    "class Game:\n",
    "    # Class variables\n",
    "    default_score = 100\n",
    "    default_level = 40\n",
    "    default_player_name = \"Virat Kohli\"\n",
    "\n",
    "    # Non-parameterized constructor\n",
    "    def __init__(self):\n",
    "        # Instance variables\n",
    "        self.score = Game.default_score\n",
    "        self.level = Game.default_level\n",
    "        self.player_name = Game.default_player_name\n",
    "\n",
    "# Other methods of the Game class...\n",
    "# Create a new Game object\n",
    "game = Game()\n",
    "\n",
    "# Access the attributes\n",
    "print(game.score)  # Output: 0\n",
    "print(game.level)  # Output: 1\n",
    "print(game.player_name)  # Output: \"Player\""
   ]
  },
  {
   "cell_type": "code",
   "execution_count": null,
   "id": "59d9e64b",
   "metadata": {},
   "outputs": [],
   "source": []
  }
 ],
 "metadata": {
  "kernelspec": {
   "display_name": "Python 3 (ipykernel)",
   "language": "python",
   "name": "python3"
  },
  "language_info": {
   "codemirror_mode": {
    "name": "ipython",
    "version": 3
   },
   "file_extension": ".py",
   "mimetype": "text/x-python",
   "name": "python",
   "nbconvert_exporter": "python",
   "pygments_lexer": "ipython3",
   "version": "3.10.9"
  }
 },
 "nbformat": 4,
 "nbformat_minor": 5
}
