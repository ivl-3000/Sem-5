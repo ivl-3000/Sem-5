{
 "cells": [
  {
   "cell_type": "markdown",
   "id": "949efc14",
   "metadata": {},
   "source": [
    "# Positional and Keyword Argument"
   ]
  },
  {
   "cell_type": "code",
   "execution_count": 5,
   "id": "8f5f104d",
   "metadata": {},
   "outputs": [
    {
     "name": "stdout",
     "output_type": "stream",
     "text": [
      "Hello, Nisarg, you are 24 years old\n"
     ]
    }
   ],
   "source": [
    "# Positional Argument\n",
    "def hello(name, age):\n",
    "    print(f\"Hello, {name}, you are {age} years old\")\n",
    "\n",
    "hello(\"Nisarg\", 24)"
   ]
  },
  {
   "cell_type": "code",
   "execution_count": 10,
   "id": "2ee7e288",
   "metadata": {},
   "outputs": [
    {
     "name": "stdout",
     "output_type": "stream",
     "text": [
      "Hello, Nisarg, you are 28 years old\n"
     ]
    }
   ],
   "source": [
    "# Keyword Argument\n",
    "# Calling the function with one argument\n",
    "\n",
    "def hello(name,age=28):\n",
    "    print(f\"Hello, {name}, you are {age} years old\")\n",
    "\n",
    "hello(\"Nisarg\")"
   ]
  },
  {
   "cell_type": "code",
   "execution_count": 11,
   "id": "3098d9fa",
   "metadata": {},
   "outputs": [
    {
     "name": "stdout",
     "output_type": "stream",
     "text": [
      "Hello, Nisarg, you are 19 years old\n"
     ]
    }
   ],
   "source": [
    "# Keyword Argument\n",
    "# Calling the function with two arguments and overriding the default parameter\n",
    "\n",
    "def hello(name,age=28):\n",
    "    print(f\"Hello, {name}, you are {age} years old\")\n",
    "\n",
    "hello(\"Nisarg\",19)"
   ]
  },
  {
   "cell_type": "code",
   "execution_count": 12,
   "id": "cd7f9b9b",
   "metadata": {},
   "outputs": [
    {
     "name": "stdout",
     "output_type": "stream",
     "text": [
      "('Johnny', 'Jenny')\n",
      "{'age': 30, 'year': 2023}\n"
     ]
    }
   ],
   "source": [
    "def hello(*args,**kwargs):\n",
    "    print(args)\n",
    "    print(kwargs)\n",
    "hello(\"Johnny\",\"Jenny\",age=30,year=2023)"
   ]
  },
  {
   "cell_type": "code",
   "execution_count": 13,
   "id": "f1fb3017",
   "metadata": {},
   "outputs": [
    {
     "name": "stdout",
     "output_type": "stream",
     "text": [
      "('Jhon', 'Jenny', 'Jinal')\n",
      "{'age': 30, 'DOB': 1985, 'year': 2023}\n"
     ]
    }
   ],
   "source": [
    "def hello(*args,**kwargs):\n",
    "    print(args)\n",
    "    print(kwargs)\n",
    "\n",
    "list = list((\"Jhon\",\"Jenny\",\"Jinal\"))\n",
    "dictionay = {'age':30, 'DOB':1985,'year':2023}\n",
    "\n",
    "hello(*list,**dictionay)"
   ]
  },
  {
   "cell_type": "code",
   "execution_count": 7,
   "id": "a8c791f1",
   "metadata": {},
   "outputs": [
    {
     "name": "stdout",
     "output_type": "stream",
     "text": [
      "The animal is ('dog', 'mammal') and says woof woof\n"
     ]
    }
   ],
   "source": [
    "# Positional Arguments\n",
    "\n",
    "class animal:\n",
    "    def __init__(self, *args):\n",
    "        if len(args) == 1:\n",
    "            self.name = args[0]\n",
    "        elif len(args) == 2:\n",
    "            self.name = args[0]\n",
    "            self.species = args[1]\n",
    "        elif len(args) == 3:\n",
    "            self.name = args[0]\n",
    "            self.species = args[1]\n",
    "            self.age = args[2]\n",
    "\n",
    "    def make_sound(self, sound):\n",
    "        return \"The animal is {} and says {}\".format(self.name, sound)\n",
    "\n",
    "dog = animal((\"dog\", \"mammal\"))\n",
    "print(dog.make_sound(\"woof woof\"))"
   ]
  }
 ],
 "metadata": {
  "kernelspec": {
   "display_name": "Python 3 (ipykernel)",
   "language": "python",
   "name": "python3"
  },
  "language_info": {
   "codemirror_mode": {
    "name": "ipython",
    "version": 3
   },
   "file_extension": ".py",
   "mimetype": "text/x-python",
   "name": "python",
   "nbconvert_exporter": "python",
   "pygments_lexer": "ipython3",
   "version": "3.10.9"
  }
 },
 "nbformat": 4,
 "nbformat_minor": 5
}
