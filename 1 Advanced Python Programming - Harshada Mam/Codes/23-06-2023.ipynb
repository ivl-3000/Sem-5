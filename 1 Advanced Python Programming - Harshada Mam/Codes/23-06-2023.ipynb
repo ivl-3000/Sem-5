{
 "cells": [
  {
   "cell_type": "markdown",
   "id": "9dfeb76d",
   "metadata": {},
   "source": [
    "# String Formating"
   ]
  },
  {
   "cell_type": "markdown",
   "id": "698ae485",
   "metadata": {},
   "source": [
    "### 1. Use of % operator for string formatting (older approach)"
   ]
  },
  {
   "cell_type": "code",
   "execution_count": 2,
   "id": "1c6a4838",
   "metadata": {},
   "outputs": [
    {
     "name": "stdout",
     "output_type": "stream",
     "text": [
      "Student name is Nisarg and ID is 101\n"
     ]
    }
   ],
   "source": [
    "Name = \"Nisarg\"\n",
    "ID = 101\n",
    "print(\"Student name is %s and ID is %d\"%(Name, ID))"
   ]
  },
  {
   "cell_type": "markdown",
   "id": "4aee96c7",
   "metadata": {},
   "source": [
    "### 2. Use of format() method for string formatting"
   ]
  },
  {
   "cell_type": "code",
   "execution_count": 3,
   "id": "ff4b2171",
   "metadata": {},
   "outputs": [
    {
     "name": "stdout",
     "output_type": "stream",
     "text": [
      "Student name is Nisarg and ID is 101\n"
     ]
    }
   ],
   "source": [
    "Name = \"Nisarg\"\n",
    "ID = 101\n",
    "print(\"Student name is {} and ID is {}\".format(Name, ID))"
   ]
  },
  {
   "cell_type": "markdown",
   "id": "f7abb017",
   "metadata": {},
   "source": [
    "### 3. Use of f-string formatting"
   ]
  },
  {
   "cell_type": "code",
   "execution_count": 4,
   "id": "70eaca6a",
   "metadata": {},
   "outputs": [
    {
     "name": "stdout",
     "output_type": "stream",
     "text": [
      "Student name is Nisarg and ID is 101\n"
     ]
    }
   ],
   "source": [
    "Name = \"Nisarg\"\n",
    "ID = 101\n",
    "print(f\"Student name is {Name} and ID is {ID}\")"
   ]
  },
  {
   "cell_type": "code",
   "execution_count": 9,
   "id": "10b69c61",
   "metadata": {},
   "outputs": [
    {
     "name": "stdout",
     "output_type": "stream",
     "text": [
      "Car: Toyota Corolla 2023\n",
      "Mileage: 0 miles\n",
      "Car: Toyota Corolla 2023\n",
      "Mileage: 100 miles\n"
     ]
    }
   ],
   "source": [
    "class Car:\n",
    "    def __init__(self, Make, Model, Year):\n",
    "        self.make = Make\n",
    "        self.model = Model\n",
    "        self.year = Year\n",
    "        self.mileage = 0\n",
    "        \n",
    "    def drive(self, miles):\n",
    "        self.mileage += miles\n",
    "        \n",
    "    def display_info(self):\n",
    "        print(\"Car: {} {} {}\".format(self.make, self.model, self.year))\n",
    "        print(\"Mileage: {} miles\".format(self.mileage))\n",
    "\n",
    "my_car = Car(\"Toyota\",\"Corolla\", 2023)\n",
    "\n",
    "my_car.display_info()\n",
    "my_car.drive(100)\n",
    "my_car.display_info()"
   ]
  },
  {
   "cell_type": "code",
   "execution_count": null,
   "id": "207d26ab",
   "metadata": {},
   "outputs": [],
   "source": []
  }
 ],
 "metadata": {
  "kernelspec": {
   "display_name": "Python 3 (ipykernel)",
   "language": "python",
   "name": "python3"
  },
  "language_info": {
   "codemirror_mode": {
    "name": "ipython",
    "version": 3
   },
   "file_extension": ".py",
   "mimetype": "text/x-python",
   "name": "python",
   "nbconvert_exporter": "python",
   "pygments_lexer": "ipython3",
   "version": "3.10.9"
  }
 },
 "nbformat": 4,
 "nbformat_minor": 5
}
