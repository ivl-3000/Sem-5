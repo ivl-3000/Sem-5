{
 "cells": [
  {
   "cell_type": "code",
   "execution_count": 2,
   "id": "2486c91f",
   "metadata": {},
   "outputs": [
    {
     "name": "stdout",
     "output_type": "stream",
     "text": [
      "The number of Students 4\n"
     ]
    }
   ],
   "source": [
    "class Student:\n",
    "    counter = 0  # class variable\n",
    "\n",
    "    def __init__(self):\n",
    "        Student.counter = Student.counter + 1  # Increment the counter when a new student object is created\n",
    "\n",
    "\n",
    "s1 = Student()  # Create a new instance of the Student class\n",
    "s2 = Student()  # Create another instance of the Student class\n",
    "s3 = Student()  # Create yet another instance of the Student class\n",
    "s4 = Student()  # Create one more instance of the Student class\n",
    "\n",
    "print(\"The number of Students\", Student.counter)  # Print the total number of student objects created"
   ]
  },
  {
   "cell_type": "code",
   "execution_count": 4,
   "id": "1deee0cc",
   "metadata": {},
   "outputs": [
    {
     "name": "stdout",
     "output_type": "stream",
     "text": [
      "This is non parameterized constructer\n",
      "Hello John\n"
     ]
    }
   ],
   "source": [
    "# Python Non-Parameterized Constructer\n",
    "class Student:\n",
    "    \n",
    "    # Constructer - non parameterized\n",
    "    def __init__(self): # two underscore before init and after\n",
    "        print(\"This is non parameterized constructer\")\n",
    "        \n",
    "    def show(self, name):\n",
    "        print(\"Hello\",name)\n",
    "\n",
    "student = Student()\n",
    "student.show(\"John\")\n",
    "    "
   ]
  },
  {
   "cell_type": "code",
   "execution_count": 5,
   "id": "1e797307",
   "metadata": {},
   "outputs": [
    {
     "name": "stdout",
     "output_type": "stream",
     "text": [
      "This is Non-Parameterized Constructer...\n",
      "Car price is:  6.71 Lakh\n",
      "Car Manufactured by  Toyota\n",
      "Car Model is  Corolla\n",
      "Car Launching Year is  2023\n"
     ]
    }
   ],
   "source": [
    "class Car:\n",
    "    Make = \"Toyota\"\n",
    "    Model = \"Corolla\"\n",
    "    Year = 2023\n",
    "    \n",
    "    def __init__(self): # non-parametrized constructer\n",
    "        Price = \"6.71 Lakh\"\n",
    "        print(\"This is Non-Parameterized Constructer...\")\n",
    "        print(\"Car price is: \", Price)\n",
    "        \n",
    "    def get_info(self):\n",
    "        print(\"Car Manufactured by \",Car.Make)\n",
    "        print(\"Car Model is \",Car.Model)\n",
    "        print(\"Car Launching Year is \",Car.Year)\n",
    "        \n",
    "car1 = Car()\n",
    "car1.get_info()"
   ]
  },
  {
   "cell_type": "markdown",
   "id": "ff4e9447",
   "metadata": {},
   "source": [
    "### In a class representing a Book, how can a non-parameterized constructer be used to set default values for attributes such as title, author and publication year? (Initialize variables within a non parameterized constructer )"
   ]
  },
  {
   "cell_type": "code",
   "execution_count": 8,
   "id": "5052ba2e",
   "metadata": {},
   "outputs": [
    {
     "name": "stdout",
     "output_type": "stream",
     "text": [
      "Stranger Things\n",
      "Mate Duffer\n",
      "2020\n"
     ]
    }
   ],
   "source": [
    "class Book:\n",
    "    def __init__(self):\n",
    "        self.title = \"Stranger Things\"\n",
    "        self.author = \"Mate Duffer\"\n",
    "        self.publication_year = 2020\n",
    "\n",
    "# Creating an instance of the Book class using the non-parameterized constructor\n",
    "book = Book()\n",
    "\n",
    "# Accessing the attributes of the book\n",
    "print(book.title)  \n",
    "print(book.author)  \n",
    "print(book.publication_year)  "
   ]
  },
  {
   "cell_type": "markdown",
   "id": "62b9b76c",
   "metadata": {},
   "source": [
    "### How a non-parameterized constructer can be used in a class representing a Game to set default values for attributes such as score, level and player name. (Initialise variables as a class variable)"
   ]
  },
  {
   "cell_type": "code",
   "execution_count": 11,
   "id": "04f94394",
   "metadata": {},
   "outputs": [
    {
     "name": "stdout",
     "output_type": "stream",
     "text": [
      "100\n",
      "40\n",
      "Virat Kohli\n"
     ]
    }
   ],
   "source": [
    "class Game:\n",
    "    # Class variables\n",
    "    default_score = 100\n",
    "    default_level = 40\n",
    "    default_player_name = \"Virat Kohli\"\n",
    "\n",
    "    # Non-parameterized constructor\n",
    "    def __init__(self):\n",
    "        # Instance variables\n",
    "        self.score = Game.default_score\n",
    "        self.level = Game.default_level\n",
    "        self.player_name = Game.default_player_name\n",
    "\n",
    "# Other methods of the Game class...\n",
    "# Create a new Game object\n",
    "game = Game()\n",
    "\n",
    "# Access the attributes\n",
    "print(game.score)  # Output: 0\n",
    "print(game.level)  # Output: 1\n",
    "print(game.player_name)  # Output: \"Player\"\n"
   ]
  }
 ],
 "metadata": {
  "kernelspec": {
   "display_name": "Python 3 (ipykernel)",
   "language": "python",
   "name": "python3"
  },
  "language_info": {
   "codemirror_mode": {
    "name": "ipython",
    "version": 3
   },
   "file_extension": ".py",
   "mimetype": "text/x-python",
   "name": "python",
   "nbconvert_exporter": "python",
   "pygments_lexer": "ipython3",
   "version": "3.10.9"
  }
 },
 "nbformat": 4,
 "nbformat_minor": 5
}
