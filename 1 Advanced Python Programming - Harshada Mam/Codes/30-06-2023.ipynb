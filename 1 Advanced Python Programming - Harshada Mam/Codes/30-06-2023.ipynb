{
 "cells": [
  {
   "attachments": {},
   "cell_type": "markdown",
   "id": "738ac2d0",
   "metadata": {},
   "source": [
    "# More than one constructor in single class"
   ]
  },
  {
   "cell_type": "code",
   "execution_count": 2,
   "id": "cc97d289",
   "metadata": {},
   "outputs": [
    {
     "name": "stdout",
     "output_type": "stream",
     "text": [
      "Second Constructor\n"
     ]
    }
   ],
   "source": [
    "class Student:\n",
    "    def __init__(self):\n",
    "            print(\"First Constructor\")\n",
    "    def __init__(self):\n",
    "        print(\"Second Constructor\")\n",
    "st = Student()"
   ]
  },
  {
   "cell_type": "code",
   "execution_count": 6,
   "id": "4b6b55ce",
   "metadata": {},
   "outputs": [
    {
     "data": {
      "text/plain": [
       "'The animal is Tommy, says Woof species Husky, age 3, number 123, address Ny'"
      ]
     },
     "execution_count": 6,
     "metadata": {},
     "output_type": "execute_result"
    }
   ],
   "source": [
    "class Animal:\n",
    "    def __init__(self,name,species):\n",
    "        self.name = name\n",
    "        self.species = species\n",
    "        \n",
    "    def __init__(self,name,species,age):\n",
    "        self.name = name\n",
    "        self.species = species\n",
    "        self.age = age\n",
    "    \n",
    "    def __init__(self,name,species,age,number):\n",
    "        self.name = name\n",
    "        self.species = species\n",
    "        self.age = age\n",
    "        self.number = number\n",
    "        \n",
    "    def __init__(self,name,species,age,number,address):\n",
    "        self.name = name\n",
    "        self.species = species\n",
    "        self.age = age\n",
    "        self.number = number\n",
    "        self.address = address\n",
    "    \n",
    "    def make_sound(self,sound):\n",
    "        return f\"The animal is {self.name}, says {sound} species {self.species}, age {self.age}, number {self.number}, address {self.address}\"\n",
    "\n",
    "dog = Animal(\"Tommy\", \"Husky\", 3, 123, \"Ny\")\n",
    "dog.make_sound(\"Woof\")"
   ]
  }
 ],
 "metadata": {
  "kernelspec": {
   "display_name": "Python 3 (ipykernel)",
   "language": "python",
   "name": "python3"
  },
  "language_info": {
   "codemirror_mode": {
    "name": "ipython",
    "version": 3
   },
   "file_extension": ".py",
   "mimetype": "text/x-python",
   "name": "python",
   "nbconvert_exporter": "python",
   "pygments_lexer": "ipython3",
   "version": "3.10.9"
  }
 },
 "nbformat": 4,
 "nbformat_minor": 5
}
