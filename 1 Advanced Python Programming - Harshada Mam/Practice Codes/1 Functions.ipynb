{
 "cells": [
  {
   "cell_type": "markdown",
   "id": "22d390c6",
   "metadata": {},
   "source": [
    "# Functions\n",
    "### In Python, a function is a named block of reusable code that performs a specific task. \n",
    "### It allows you to divide your program into smaller, more manageable pieces. \n",
    "### Functions take inputs (arguments or parameters), perform a series of operations, and may return a value as output."
   ]
  },
  {
   "cell_type": "code",
   "execution_count": 1,
   "id": "db377379",
   "metadata": {},
   "outputs": [],
   "source": [
    "# Syntax of a Simple Function:\n",
    "\n",
    "# def function_name():\n",
    "    # Code block for the function\n",
    "    # Indented statements that define the function's behaviour\n",
    "    # Return statement(optional)\n",
    "# function_name()"
   ]
  },
  {
   "cell_type": "code",
   "execution_count": 2,
   "id": "f46138d2",
   "metadata": {},
   "outputs": [],
   "source": [
    "# Syntax of a Function having Parameters and Arguments:\n",
    "\n",
    "# def function_name(parameter1, parameter2, ...)\n",
    "    # Code block for the function\n",
    "    # Indented statements that defines the function's behaviour\n",
    "    # Return statement(optional)\n",
    "# function_name(argument1, argument2, ...)"
   ]
  },
  {
   "cell_type": "markdown",
   "id": "7607896b",
   "metadata": {},
   "source": [
    "# Simple Python Function"
   ]
  },
  {
   "cell_type": "code",
   "execution_count": 3,
   "id": "3f9e5136",
   "metadata": {},
   "outputs": [
    {
     "name": "stdout",
     "output_type": "stream",
     "text": [
      "Hello World!\n"
     ]
    }
   ],
   "source": [
    "def greet():\n",
    "    print(\"Hello World!\")\n",
    "    \n",
    "greet()"
   ]
  },
  {
   "cell_type": "markdown",
   "id": "5455e2c3",
   "metadata": {},
   "source": [
    "# Python Function With Parameters & Arguments"
   ]
  },
  {
   "cell_type": "code",
   "execution_count": 4,
   "id": "dba78f3d",
   "metadata": {},
   "outputs": [
    {
     "name": "stdout",
     "output_type": "stream",
     "text": [
      "Sum: 30\n"
     ]
    }
   ],
   "source": [
    "# Function with two arguments\n",
    "def add_numbers(num1, num2):\n",
    "    sum = num1 + num2\n",
    "    print('Sum:',sum)\n",
    "\n",
    "add_numbers(10,20)"
   ]
  },
  {
   "cell_type": "markdown",
   "id": "cf7ff98b",
   "metadata": {},
   "source": [
    "# Return Statement in Python\n",
    "### If we want our function to return values to a function cell, we use the return statement.\n",
    "### Note: The return statement also denotes that the function has ended. Any code after return is not excuted"
   ]
  },
  {
   "cell_type": "code",
   "execution_count": 5,
   "id": "24488b0b",
   "metadata": {},
   "outputs": [
    {
     "name": "stdout",
     "output_type": "stream",
     "text": [
      "Square: 9\n"
     ]
    }
   ],
   "source": [
    "# Function definition\n",
    "def find_square(num):\n",
    "    result = num * num\n",
    "    return result\n",
    "\n",
    "# Function Calling\n",
    "square = find_square(3)\n",
    "\n",
    "print('Square:',square)"
   ]
  },
  {
   "cell_type": "markdown",
   "id": "944a9c37",
   "metadata": {},
   "source": [
    "# Example 1 :- Function to add two numbers"
   ]
  },
  {
   "cell_type": "code",
   "execution_count": 6,
   "id": "0d090a71",
   "metadata": {},
   "outputs": [
    {
     "name": "stdout",
     "output_type": "stream",
     "text": [
      "Sum: 30\n"
     ]
    }
   ],
   "source": [
    "def add_numbers(num1, num2):\n",
    "    sum = num1 + num2\n",
    "    return sum\n",
    "\n",
    "result = add_numbers(10,20)\n",
    "\n",
    "print('Sum:' ,result)"
   ]
  },
  {
   "cell_type": "markdown",
   "id": "dad54c6a",
   "metadata": {},
   "source": [
    "# Example 2 :- Function to calculate the area of a rectangle"
   ]
  },
  {
   "cell_type": "code",
   "execution_count": 7,
   "id": "880d7963",
   "metadata": {},
   "outputs": [
    {
     "name": "stdout",
     "output_type": "stream",
     "text": [
      "Area: 30\n"
     ]
    }
   ],
   "source": [
    "def calculate_area(lenght, width):\n",
    "    area = lenght * width\n",
    "    return area\n",
    "\n",
    "result = calculate_area(5,6)\n",
    "\n",
    "print(\"Area:\",result)"
   ]
  },
  {
   "cell_type": "markdown",
   "id": "7ca857e7",
   "metadata": {},
   "source": [
    "# Example 3 :- Function to check if a number is even or odd"
   ]
  },
  {
   "cell_type": "code",
   "execution_count": 8,
   "id": "4d949865",
   "metadata": {},
   "outputs": [
    {
     "name": "stdout",
     "output_type": "stream",
     "text": [
      "Even\n"
     ]
    }
   ],
   "source": [
    "def check_even_odd(num):\n",
    "    if num % 2 ==0:\n",
    "        return \"Even\"\n",
    "    else:\n",
    "        return \"Odd\"\n",
    "\n",
    "result = check_even_odd(8)\n",
    "\n",
    "print(result)"
   ]
  },
  {
   "cell_type": "markdown",
   "id": "0d03ac3c",
   "metadata": {},
   "source": [
    "# Example 4 :- Function to concatenate two strings"
   ]
  },
  {
   "cell_type": "code",
   "execution_count": 9,
   "id": "1bc0877f",
   "metadata": {},
   "outputs": [
    {
     "name": "stdout",
     "output_type": "stream",
     "text": [
      "Hello World!\n"
     ]
    }
   ],
   "source": [
    "def concatenate_strings(str1, str2):\n",
    "    join = str1 + str2\n",
    "    return join\n",
    "\n",
    "result = concatenate_strings(\"Hello \",\"World!\")\n",
    "\n",
    "print(result)"
   ]
  },
  {
   "cell_type": "markdown",
   "id": "d33568aa",
   "metadata": {},
   "source": [
    "# Example 5 :- Function to find the maximum of three numbers"
   ]
  },
  {
   "cell_type": "code",
   "execution_count": 10,
   "id": "78e9e41b",
   "metadata": {},
   "outputs": [
    {
     "name": "stdout",
     "output_type": "stream",
     "text": [
      "Maximum: 3\n"
     ]
    }
   ],
   "source": [
    "def find_maximum(a,b,c):\n",
    "    max_num = max(a,b,c)\n",
    "    return max_num\n",
    "\n",
    "result = find_maximum(1,2,3)\n",
    "\n",
    "print(\"Maximum:\", result)"
   ]
  },
  {
   "cell_type": "markdown",
   "id": "657e251e",
   "metadata": {},
   "source": [
    "# Example 6 :- Function to convert Celsius to Fahrenheit"
   ]
  },
  {
   "cell_type": "code",
   "execution_count": 11,
   "id": "f142bb72",
   "metadata": {},
   "outputs": [
    {
     "name": "stdout",
     "output_type": "stream",
     "text": [
      "Fahrenheit: 77.0\n"
     ]
    }
   ],
   "source": [
    "def celsius_to_fahrenheit(celsius):\n",
    "    fahrenheit = (celsius * 9/5) + 32\n",
    "    return fahrenheit\n",
    "\n",
    "result = celsius_to_fahrenheit(25)\n",
    "\n",
    "print(\"Fahrenheit:\",result)"
   ]
  },
  {
   "cell_type": "markdown",
   "id": "cfb24950",
   "metadata": {},
   "source": [
    "# Example 7 :- Function to calculate the sum of a list of numbers"
   ]
  },
  {
   "cell_type": "code",
   "execution_count": 12,
   "id": "43425ebc",
   "metadata": {},
   "outputs": [
    {
     "name": "stdout",
     "output_type": "stream",
     "text": [
      "Sum: 15\n"
     ]
    }
   ],
   "source": [
    "def calculate_sum(numbers):\n",
    "    total = sum(numbers)\n",
    "    return total\n",
    "\n",
    "result = calculate_sum([1, 2, 3, 4, 5])\n",
    "\n",
    "print(\"Sum:\",result)"
   ]
  },
  {
   "cell_type": "markdown",
   "id": "3990018a",
   "metadata": {},
   "source": [
    "# Example 8 :- Function to calculate the average of a list of numbers"
   ]
  },
  {
   "cell_type": "code",
   "execution_count": 13,
   "id": "aae16ee3",
   "metadata": {},
   "outputs": [
    {
     "name": "stdout",
     "output_type": "stream",
     "text": [
      "Average: 30.0\n"
     ]
    }
   ],
   "source": [
    "def calculate_average(numbers):\n",
    "    average = sum(numbers)/len(numbers)\n",
    "    return average\n",
    "\n",
    "result = calculate_average([10, 20, 30, 40, 50])\n",
    "\n",
    "print(\"Average:\",result)"
   ]
  }
 ],
 "metadata": {
  "kernelspec": {
   "display_name": "Python 3 (ipykernel)",
   "language": "python",
   "name": "python3"
  },
  "language_info": {
   "codemirror_mode": {
    "name": "ipython",
    "version": 3
   },
   "file_extension": ".py",
   "mimetype": "text/x-python",
   "name": "python",
   "nbconvert_exporter": "python",
   "pygments_lexer": "ipython3",
   "version": "3.10.9"
  }
 },
 "nbformat": 4,
 "nbformat_minor": 5
}
