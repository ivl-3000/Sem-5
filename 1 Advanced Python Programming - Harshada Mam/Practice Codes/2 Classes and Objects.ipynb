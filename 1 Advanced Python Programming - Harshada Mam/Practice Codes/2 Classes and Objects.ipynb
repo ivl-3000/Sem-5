{
 "cells": [
  {
   "cell_type": "markdown",
   "id": "78ab5bb3",
   "metadata": {},
   "source": [
    "# Classes & Objects\n",
    "### Python is an object oriented programming language\n",
    "### Almost everything in Python is an object, with its properties and methods.\n",
    "### A Class is like an object constructer, or a \"blueprint\" for creating objects"
   ]
  },
  {
   "cell_type": "code",
   "execution_count": 1,
   "id": "75b83875",
   "metadata": {},
   "outputs": [
    {
     "name": "stdout",
     "output_type": "stream",
     "text": [
      "Area of Rectangle = 50\n"
     ]
    }
   ],
   "source": [
    "# Define a class named Rectangle\n",
    "class Rectangle:\n",
    "    # Class attributes (variables)\n",
    "    length = 10\n",
    "    breadth = 5\n",
    "    \n",
    "    # Define a method that takes 'self' as a parameter\n",
    "    def calculate_area(self):\n",
    "        print(\"Area of Rectangle =\", self.length * self.breadth)\n",
    "\n",
    "# Create an instance (object)\n",
    "rectangle_area = Rectangle()\n",
    "\n",
    "# Access the method \n",
    "rectangle_area.calculate_area()"
   ]
  },
  {
   "cell_type": "markdown",
   "id": "098cb3cb",
   "metadata": {},
   "source": [
    "# Define Class\n",
    "### We use the \"class\" keyword to create a class in Python."
   ]
  },
  {
   "cell_type": "code",
   "execution_count": 2,
   "id": "04fd4ffd",
   "metadata": {},
   "outputs": [],
   "source": [
    "# class ClassName:  \n",
    "    # class definition\n",
    "    \n",
    "# Here, we have created a class named \"ClassName\" "
   ]
  },
  {
   "cell_type": "markdown",
   "id": "0a03720f",
   "metadata": {},
   "source": [
    "### Let's see an example,"
   ]
  },
  {
   "cell_type": "code",
   "execution_count": 3,
   "id": "4b9ea1af",
   "metadata": {},
   "outputs": [],
   "source": [
    "class Bike:  \n",
    "    name = \"\"  \n",
    "    gear = 0\n",
    "\n",
    "# Bike - The name of the class\n",
    "# name/gear - Variables inside the class with default values \"\" and 0 respectively"
   ]
  },
  {
   "cell_type": "markdown",
   "id": "e22c9414",
   "metadata": {},
   "source": [
    "### Note: The variables inside a class are called \"attributes\"."
   ]
  },
  {
   "cell_type": "markdown",
   "id": "ba26f218",
   "metadata": {},
   "source": [
    "# Python Objects\n",
    "### An object is called an instance of a class.\n",
    "### For example, suppose \"Bike\" is a class then we can create objects like \"bike1\", \"bike2\", etc from the class"
   ]
  },
  {
   "cell_type": "code",
   "execution_count": 4,
   "id": "32466818",
   "metadata": {},
   "outputs": [],
   "source": [
    "# Here's the syntax to create an object.\n",
    "# objectName = ClassName()"
   ]
  },
  {
   "cell_type": "markdown",
   "id": "e6bb517c",
   "metadata": {},
   "source": [
    "### Let's see an example,"
   ]
  },
  {
   "cell_type": "code",
   "execution_count": 5,
   "id": "04d2f0da",
   "metadata": {},
   "outputs": [],
   "source": [
    "# create class\n",
    "class Bike:\n",
    "    name = \"\"\n",
    "    gear = 0\n",
    "\n",
    "# create objects of class\n",
    "bike1 = Bike()\n",
    "\n",
    "# Here, \"bike1\" is the object of the class. Now we can use this object to access the class attributes"
   ]
  },
  {
   "cell_type": "markdown",
   "id": "8f57986c",
   "metadata": {},
   "source": [
    "# Access Class Attributes Using Objects\n",
    "### We use the '.' notation to access or modified the values of attributes of a class"
   ]
  },
  {
   "cell_type": "code",
   "execution_count": 6,
   "id": "1d2a8921",
   "metadata": {},
   "outputs": [
    {
     "data": {
      "text/plain": [
       "0"
      ]
     },
     "execution_count": 6,
     "metadata": {},
     "output_type": "execute_result"
    }
   ],
   "source": [
    "# modify the name attribute\n",
    "bike1.name = \"Mountain Bike\"\n",
    "\n",
    "# access the gear attribute\n",
    "bike1.gear\n",
    "\n",
    "# Here, we have used \"bike1.name\" and \"bike1.gear\" to change and access the value of \"name\" and \"gear\" attribute respectively."
   ]
  },
  {
   "cell_type": "markdown",
   "id": "f65e6d7f",
   "metadata": {},
   "source": [
    "# Example 1"
   ]
  },
  {
   "cell_type": "code",
   "execution_count": 7,
   "id": "82c76e7c",
   "metadata": {},
   "outputs": [
    {
     "name": "stdout",
     "output_type": "stream",
     "text": [
      "Name: Mountain Bike, Gears: 11\n"
     ]
    }
   ],
   "source": [
    "# define a class\n",
    "class Bike:\n",
    "    name = \"\"\n",
    "    gear = 0\n",
    "    \n",
    "# create object of class\n",
    "bike1 = Bike()\n",
    "\n",
    "# access attributes and assign new values\n",
    "bike1.gear = 11\n",
    "bike1.name = \"Mountain Bike\"\n",
    "\n",
    "print(f\"Name: {bike1.name}, Gears: {bike1.gear}\")"
   ]
  },
  {
   "cell_type": "markdown",
   "id": "2a848e14",
   "metadata": {},
   "source": [
    "# Example 2"
   ]
  },
  {
   "cell_type": "code",
   "execution_count": 8,
   "id": "65d4f95b",
   "metadata": {},
   "outputs": [
    {
     "name": "stdout",
     "output_type": "stream",
     "text": [
      "Brand:Toyota, Speed:200\n"
     ]
    }
   ],
   "source": [
    "class Car:\n",
    "    brand = \"\"\n",
    "    speed = 0\n",
    "\n",
    "car1 = Car()\n",
    "\n",
    "car1.brand = \"Toyota\"\n",
    "car1.speed = 200\n",
    "\n",
    "print(f\"Brand:{car1.brand}, Speed:{car1.speed}\")"
   ]
  },
  {
   "cell_type": "markdown",
   "id": "740aaf1b",
   "metadata": {},
   "source": [
    "# Example 3"
   ]
  },
  {
   "cell_type": "code",
   "execution_count": 9,
   "id": "509af620",
   "metadata": {},
   "outputs": [
    {
     "name": "stdout",
     "output_type": "stream",
     "text": [
      "Laptop Brand : Lenovo, Price : 12000\n"
     ]
    }
   ],
   "source": [
    "class Laptop:\n",
    "    brand = \"\"\n",
    "    price = 0.0\n",
    "\n",
    "laptop1 = Laptop()\n",
    "\n",
    "laptop1.brand = \"Lenovo\"\n",
    "laptop1.price = 12000\n",
    "\n",
    "print(f\"Laptop Brand : {laptop1.brand}, Price : {laptop1.price}\")"
   ]
  },
  {
   "cell_type": "markdown",
   "id": "eab669a0",
   "metadata": {},
   "source": [
    "# Example 4"
   ]
  },
  {
   "cell_type": "code",
   "execution_count": 10,
   "id": "22f9372e",
   "metadata": {},
   "outputs": [
    {
     "name": "stdout",
     "output_type": "stream",
     "text": [
      "Animal : Dog, Sound : Woof!\n"
     ]
    }
   ],
   "source": [
    "class Animal:\n",
    "    species = \"\"\n",
    "    sound = \"\"\n",
    "\n",
    "animal1 = Animal()\n",
    "\n",
    "animal1.species = \"Dog\"\n",
    "animal1.sound = \"Woof!\"\n",
    "\n",
    "print(f\"Animal : {animal1.species}, Sound : {animal1.sound}\")"
   ]
  },
  {
   "cell_type": "markdown",
   "id": "d221446a",
   "metadata": {},
   "source": [
    "# Example 5"
   ]
  },
  {
   "cell_type": "code",
   "execution_count": 11,
   "id": "621b24a2",
   "metadata": {},
   "outputs": [
    {
     "name": "stdout",
     "output_type": "stream",
     "text": [
      "Subject 1 :60, Subject 2 :80\n"
     ]
    }
   ],
   "source": [
    "class Marks:\n",
    "    sub1 = 0\n",
    "    sub2 = 0\n",
    "\n",
    "marks1 = Marks()\n",
    "\n",
    "marks1.sub1 = 60\n",
    "marks1.sub2 = 80\n",
    "\n",
    "print(f\"Subject 1 :{marks1.sub1}, Subject 2 :{marks1.sub2}\")"
   ]
  },
  {
   "cell_type": "markdown",
   "id": "7e442cd4",
   "metadata": {},
   "source": [
    "# Create Multiple Objects of Pyhton Class\n",
    "### We can also create multiple objects from a single class."
   ]
  },
  {
   "cell_type": "markdown",
   "id": "80d17942",
   "metadata": {},
   "source": [
    "# Example 1"
   ]
  },
  {
   "cell_type": "code",
   "execution_count": 12,
   "id": "eb8758ca",
   "metadata": {},
   "outputs": [
    {
     "name": "stdout",
     "output_type": "stream",
     "text": [
      "Employee ID: 1001, Employee Name: Ram\n",
      "Employee ID: 1002, Employee Name: Shyam\n"
     ]
    }
   ],
   "source": [
    "# define a class\n",
    "class Employee:\n",
    "    # define an attribute\n",
    "    employee_id = 0\n",
    "    employee_name = \"\"\n",
    "    \n",
    "# create two objects of the Employee class\n",
    "employee1 = Employee()\n",
    "employee2 = Employee()\n",
    "\n",
    "# access attributes using employee1\n",
    "employee1.employee_id = 1001\n",
    "employee1.employee_name = \"Ram\"\n",
    "\n",
    "\n",
    "# access attributes using employee2\n",
    "employee2.employee_id = 1002\n",
    "employee2.employee_name = \"Shyam\"\n",
    "\n",
    "print(f\"Employee ID: {employee1.employee_id}, Employee Name: {employee1.employee_name}\")\n",
    "print(f\"Employee ID: {employee2.employee_id}, Employee Name: {employee2.employee_name}\")"
   ]
  },
  {
   "cell_type": "markdown",
   "id": "70ed3d0d",
   "metadata": {},
   "source": [
    "# Example 2"
   ]
  },
  {
   "cell_type": "code",
   "execution_count": 13,
   "id": "3e5179a3",
   "metadata": {},
   "outputs": [
    {
     "name": "stdout",
     "output_type": "stream",
     "text": [
      "Car Brand:Maruti, Car Name:Swift, Car Model:2021\n",
      "Car Brand:Mahindra, Car Name:Thar, Car Model:2023\n"
     ]
    }
   ],
   "source": [
    "class Car:\n",
    "    brand = \"\"\n",
    "    name = \"\"\n",
    "    year = 0\n",
    "    \n",
    "car1 = Car()\n",
    "car2 = Car()\n",
    "\n",
    "car1.brand = \"Maruti\"\n",
    "car1.name = \"Swift\"\n",
    "car1.year =2021\n",
    "\n",
    "car2.brand = \"Mahindra\"\n",
    "car2.name = \"Thar\"\n",
    "car2.year = 2023\n",
    "\n",
    "print(f\"Car Brand:{car1.brand}, Car Name:{car1.name}, Car Model:{car1.year}\")\n",
    "print(f\"Car Brand:{car2.brand}, Car Name:{car2.name}, Car Model:{car2.year}\")"
   ]
  },
  {
   "cell_type": "markdown",
   "id": "1f14eafc",
   "metadata": {},
   "source": [
    "# Example 3"
   ]
  },
  {
   "cell_type": "code",
   "execution_count": 14,
   "id": "fec620c1",
   "metadata": {},
   "outputs": [
    {
     "name": "stdout",
     "output_type": "stream",
     "text": [
      "Book 1: Title: To Kill a Mockingbird, Author: Harper Lee, Publication Year: 1960\n",
      "Book 2: Title: 1984, Author: George Orwell, Publication Year: 1949\n"
     ]
    }
   ],
   "source": [
    "class Book:\n",
    "    title = \"\"\n",
    "    author = \"\"\n",
    "    publication_year = 0\n",
    "\n",
    "book1 = Book()\n",
    "book2 = Book()\n",
    "\n",
    "book1.title = \"To Kill a Mockingbird\"\n",
    "book1.author = \"Harper Lee\"\n",
    "book1.publication_year = 1960\n",
    "print(f\"Book 1: Title: {book1.title}, Author: {book1.author}, Publication Year: {book1.publication_year}\")\n",
    "\n",
    "book2.title = \"1984\"\n",
    "book2.author = \"George Orwell\"\n",
    "book2.publication_year = 1949\n",
    "print(f\"Book 2: Title: {book2.title}, Author: {book2.author}, Publication Year: {book2.publication_year}\")"
   ]
  },
  {
   "cell_type": "markdown",
   "id": "c4b89e6e",
   "metadata": {},
   "source": [
    "# Example 4"
   ]
  },
  {
   "cell_type": "code",
   "execution_count": 15,
   "id": "1970ef8b",
   "metadata": {},
   "outputs": [
    {
     "name": "stdout",
     "output_type": "stream",
     "text": [
      "Animal 1: Species: Lion, Age: 5, Sound: Roar\n",
      "Animal 2: Species: Elephant, Age: 10, Sound: Trumpet\n"
     ]
    }
   ],
   "source": [
    "class Animal:\n",
    "    # define an attribute\n",
    "    species = \"\"\n",
    "    age = 0\n",
    "    sound = \"\"\n",
    "\n",
    "animal1 = Animal()\n",
    "animal2 = Animal()\n",
    "\n",
    "animal1.species = \"Lion\"\n",
    "animal1.age = 5\n",
    "animal1.sound = \"Roar\"\n",
    "print(f\"Animal 1: Species: {animal1.species}, Age: {animal1.age}, Sound: {animal1.sound}\")\n",
    "\n",
    "animal2.species = \"Elephant\"\n",
    "animal2.age = 10\n",
    "animal2.sound = \"Trumpet\"\n",
    "print(f\"Animal 2: Species: {animal2.species}, Age: {animal2.age}, Sound: {animal2.sound}\")"
   ]
  },
  {
   "cell_type": "markdown",
   "id": "7ff53c14",
   "metadata": {},
   "source": [
    "# Example 5"
   ]
  },
  {
   "cell_type": "code",
   "execution_count": 16,
   "id": "d324c7e7",
   "metadata": {},
   "outputs": [
    {
     "name": "stdout",
     "output_type": "stream",
     "text": [
      "Product 1: Name: iPhone 12, Price: $999.99, Quantity: 5\n",
      "Product 2: Name: Samsung Galaxy S21, Price: $899.99, Quantity: 3\n"
     ]
    }
   ],
   "source": [
    "class Product:\n",
    "    name = \"\"\n",
    "    price = 0.0\n",
    "    quantity = 0\n",
    "\n",
    "product1 = Product()\n",
    "product2 = Product()\n",
    "\n",
    "product1.name = \"iPhone 12\"\n",
    "product1.price = 999.99\n",
    "product1.quantity = 5\n",
    "print(f\"Product 1: Name: {product1.name}, Price: ${product1.price}, Quantity: {product1.quantity}\")\n",
    "\n",
    "product2.name = \"Samsung Galaxy S21\"\n",
    "product2.price = 899.99\n",
    "product2.quantity = 3\n",
    "print(f\"Product 2: Name: {product2.name}, Price: ${product2.price}, Quantity: {product2.quantity}\")"
   ]
  },
  {
   "cell_type": "markdown",
   "id": "a31022da",
   "metadata": {},
   "source": [
    "# Python Methods\n",
    "### We can also define a function inside a Python class.\n",
    "### A Python Function defined inside a class is called a method."
   ]
  },
  {
   "cell_type": "markdown",
   "id": "ba3eff00",
   "metadata": {},
   "source": [
    "# Example 1"
   ]
  },
  {
   "cell_type": "code",
   "execution_count": 17,
   "id": "64186784",
   "metadata": {},
   "outputs": [
    {
     "name": "stdout",
     "output_type": "stream",
     "text": [
      "Area of Room = 1309.0\n"
     ]
    }
   ],
   "source": [
    "# create a class\n",
    "class Room:\n",
    "    length = 0.0\n",
    "    breadth = 0.0\n",
    "    \n",
    "    # method to calculate area\n",
    "    def calculate_area(self):\n",
    "        print(\"Area of Room =\",self.length * self.breadth)\n",
    "\n",
    "# create object of Room class\n",
    "study_room = Room()\n",
    "\n",
    "# assign values to all the attributes\n",
    "study_room.length = 42.5\n",
    "study_room.breadth = 30.8\n",
    "\n",
    "# access method inside class\n",
    "study_room.calculate_area()"
   ]
  },
  {
   "cell_type": "markdown",
   "id": "d79ea555",
   "metadata": {},
   "source": [
    "# Example 2"
   ]
  },
  {
   "cell_type": "code",
   "execution_count": 18,
   "id": "6338dcab",
   "metadata": {},
   "outputs": [
    {
     "name": "stdout",
     "output_type": "stream",
     "text": [
      "Area of Rectangle = 15.0\n",
      "Perimeter of Rectangle = 16.0\n",
      "Area of Rectangle = 450.0\n",
      "Perimeter of Rectangle = 90.0\n"
     ]
    }
   ],
   "source": [
    "# create a class\n",
    "class Rectangle:\n",
    "    length = 0.0\n",
    "    breadth = 0.0\n",
    "    \n",
    "    # method to calculate area\n",
    "    def calculate_area(self):\n",
    "        print(\"Area of Rectangle =\", self.length * self.breadth)\n",
    "    \n",
    "    # method to calculate perimeter\n",
    "    def calculate_perimeter(self):\n",
    "        print(\"Perimeter of Rectangle =\", 2 * (self.length + self.breadth))\n",
    "\n",
    "# create object of Rectangle class\n",
    "rectangle1 = Rectangle()\n",
    "rectangle2 = Rectangle()\n",
    "\n",
    "# assign values to attributes\n",
    "rectangle1.length = 5.0\n",
    "rectangle1.breadth = 3.0\n",
    "\n",
    "rectangle2.length = 15.0\n",
    "rectangle2.breadth = 30.0\n",
    "\n",
    "# access methods inside class\n",
    "rectangle1.calculate_area()\n",
    "rectangle1.calculate_perimeter()\n",
    "\n",
    "rectangle2.calculate_area()\n",
    "rectangle2.calculate_perimeter()"
   ]
  },
  {
   "cell_type": "markdown",
   "id": "2d1d06b2",
   "metadata": {},
   "source": [
    "# Example 3"
   ]
  },
  {
   "cell_type": "code",
   "execution_count": 19,
   "id": "584e7db8",
   "metadata": {},
   "outputs": [
    {
     "name": "stdout",
     "output_type": "stream",
     "text": [
      "Name: John Doe\n",
      "Age: 18\n",
      "Subjects: Math, Science, English\n"
     ]
    }
   ],
   "source": [
    "# create a class\n",
    "class Student:\n",
    "    name = \"\"\n",
    "    age = 0\n",
    "    subjects = []\n",
    "\n",
    "    # method to display student information\n",
    "    def display_info(self):\n",
    "        print(f\"Name: {self.name}\")\n",
    "        print(f\"Age: {self.age}\")\n",
    "        print(f\"Subjects: {', '.join(self.subjects)}\")\n",
    "\n",
    "    # method to add a subject\n",
    "    def add_subject(self, subject):\n",
    "        self.subjects.append(subject)\n",
    "\n",
    "# create object of Student class\n",
    "student1 = Student()\n",
    "\n",
    "# assign values to attributes\n",
    "student1.name = \"John Doe\"\n",
    "student1.age = 18\n",
    "student1.add_subject(\"Math\")\n",
    "student1.add_subject(\"Science\")\n",
    "student1.add_subject(\"English\")\n",
    "\n",
    "# access method inside class\n",
    "student1.display_info()"
   ]
  },
  {
   "cell_type": "markdown",
   "id": "e857f31d",
   "metadata": {},
   "source": [
    "# Example 4"
   ]
  },
  {
   "cell_type": "code",
   "execution_count": 20,
   "id": "49d59cb3",
   "metadata": {},
   "outputs": [
    {
     "name": "stdout",
     "output_type": "stream",
     "text": [
      "Account Number: 123456789\n",
      "Balance: 1000.0\n",
      "\n",
      "Deposit of 500.0 successful. \n",
      "New balance: 1500.0\n",
      "\n",
      "Withdrawal of 200.0 successful. \n",
      "New balance: 1300.0\n"
     ]
    }
   ],
   "source": [
    "# create a class\n",
    "class BankAccount:\n",
    "    account_number = \"\"\n",
    "    balance = 0.0\n",
    "    \n",
    "    # method to display account information\n",
    "    def display_info(self):\n",
    "        print(f\"Account Number: {self.account_number}\")\n",
    "        print(f\"Balance: {self.balance}\\n\")\n",
    "    \n",
    "    # method to deposit money\n",
    "    def deposit(self, amount):\n",
    "        self.balance += amount\n",
    "        print(f\"Deposit of {amount} successful. \\nNew balance: {self.balance}\\n\")\n",
    "\n",
    "    # method to withdraw money\n",
    "    # Withdraw the specified amount from the account balance if sufficient funds are available. \n",
    "    # Otherwise, display an insufficient balance message.\n",
    "    def withdraw(self, amount):\n",
    "        if self.balance >= amount:\n",
    "            self.balance -= amount\n",
    "            print(f\"Withdrawal of {amount} successful. \\nNew balance: {self.balance}\")\n",
    "        else:\n",
    "            print(\"Insufficient balance.\")\n",
    "\n",
    "# create object of BankAccount class\n",
    "account1 = BankAccount()\n",
    "\n",
    "# assign values to attributes\n",
    "account1.account_number = \"123456789\"\n",
    "account1.balance = 1000.0\n",
    "\n",
    "# access methods inside class\n",
    "account1.display_info()\n",
    "account1.deposit(500.0)\n",
    "account1.withdraw(200.0)"
   ]
  },
  {
   "cell_type": "markdown",
   "id": "8bc83421",
   "metadata": {},
   "source": [
    "# Example 5"
   ]
  },
  {
   "cell_type": "code",
   "execution_count": 21,
   "id": "aea7862e",
   "metadata": {},
   "outputs": [
    {
     "name": "stdout",
     "output_type": "stream",
     "text": [
      "Cart is empty.\n",
      "Item 'Shirt' added to the cart.\n",
      "Item 'Shoes' added to the cart.\n",
      "Item 'Hat' added to the cart.\n",
      "Items in the cart:\n",
      "Shirt\n",
      "Shoes\n",
      "Hat\n"
     ]
    },
    {
     "data": {
      "text/plain": [
       "<bound method ShoppingCart.remove_item of <__main__.ShoppingCart object at 0x0000027B699B3940>>"
      ]
     },
     "execution_count": 21,
     "metadata": {},
     "output_type": "execute_result"
    }
   ],
   "source": [
    "# create a class\n",
    "class ShoppingCart:\n",
    "    items = []\n",
    "\n",
    "    # method to add an item to the cart\n",
    "    def add_item(self, item):\n",
    "        self.items.append(item)\n",
    "        print(f\"Item '{item}' added to the cart.\")\n",
    "\n",
    "    # method to remove an item from the cart\n",
    "    def remove_item(self, item):\n",
    "        if item in self.items:\n",
    "            self.items.remove(item)\n",
    "            print(f\"Item '{item}' removed from the cart.\")\n",
    "        else:\n",
    "            print(f\"Item '{item}' not found in the cart.\")\n",
    "\n",
    "    # method to display the items in the cart\n",
    "    def display_items(self):\n",
    "        if self.items:\n",
    "            print(\"Items in the cart:\")\n",
    "            for item in self.items:\n",
    "                print(item)\n",
    "        else:\n",
    "            print(\"Cart is empty.\")\n",
    "\n",
    "# create object of ShoppingCart class\n",
    "cart = ShoppingCart()\n",
    "\n",
    "# access methods inside class\n",
    "cart.display_items()\n",
    "cart.add_item(\"Shirt\")\n",
    "cart.add_item(\"Shoes\")\n",
    "cart.add_item(\"Hat\")\n",
    "cart.display_items()\n",
    "cart.remove_item"
   ]
  }
 ],
 "metadata": {
  "kernelspec": {
   "display_name": "Python 3 (ipykernel)",
   "language": "python",
   "name": "python3"
  },
  "language_info": {
   "codemirror_mode": {
    "name": "ipython",
    "version": 3
   },
   "file_extension": ".py",
   "mimetype": "text/x-python",
   "name": "python",
   "nbconvert_exporter": "python",
   "pygments_lexer": "ipython3",
   "version": "3.10.9"
  }
 },
 "nbformat": 4,
 "nbformat_minor": 5
}
