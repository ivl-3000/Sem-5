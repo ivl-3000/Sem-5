{
 "cells": [
  {
   "cell_type": "markdown",
   "id": "6abfcdc6",
   "metadata": {},
   "source": [
    "# Constructor\n",
    "### In Python, a constructor is a special method used for initializing objects of a class.\n",
    "### The constructor method has a predefined name in Python '__init__()', and it defined within the class. "
   ]
  },
  {
   "cell_type": "markdown",
   "id": "0ed1ded0",
   "metadata": {},
   "source": [
    "# Default Constructor: \n",
    "### A default constructor is a constructor that doesn't take any parameters.\n",
    "### It is provided by default if you don't define any constructor in your class.\n",
    "### The default constructor initializes the instance variables with their default values."
   ]
  },
  {
   "cell_type": "code",
   "execution_count": 1,
   "id": "70d2d432",
   "metadata": {},
   "outputs": [
    {
     "name": "stdout",
     "output_type": "stream",
     "text": [
      "My name is Joseph and my roll number is 101\n"
     ]
    }
   ],
   "source": [
    "class Student:\n",
    "    def __init__(self):\n",
    "        self.name = \"Joseph\"  \n",
    "        self.roll_num = 101  \n",
    "        \n",
    "    def display(self):\n",
    "        print(f\"My name is {self.name} and my roll number is {self.roll_num}\")\n",
    "\n",
    "st = Student()  \n",
    "st.display() "
   ]
  },
  {
   "cell_type": "markdown",
   "id": "a981441f",
   "metadata": {},
   "source": [
    "# Parameterized Constructors:\n",
    "### A parameterized constructor is a constructor that takes one or more parameters.\n",
    "### The parameterized constructor takes its first argument as a reference to the instance being constructed known as self and the rest of the arguments are provided by the programmer."
   ]
  },
  {
   "cell_type": "code",
   "execution_count": 2,
   "id": "72446559",
   "metadata": {},
   "outputs": [
    {
     "name": "stdout",
     "output_type": "stream",
     "text": [
      "My name is Joseph and my roll number is 101\n"
     ]
    }
   ],
   "source": [
    "class Student:\n",
    "    def __init__(self, name, roll_num):\n",
    "        self.name = name  \n",
    "        self.roll_num = roll_num\n",
    "        \n",
    "    def display(self):\n",
    "        print(f\"My name is {self.name} and my roll number is {self.roll_num}\")\n",
    "\n",
    "st = Student(\"Joseph\", 101)  \n",
    "st.display()"
   ]
  },
  {
   "cell_type": "markdown",
   "id": "fade49b7",
   "metadata": {},
   "source": [
    "# Non-Parameterized Constructor\n",
    "### A non-parameterized constructor is a constructor that doesn't take any parameters.\n",
    "### The non-parameterized constructor uses when we do not want to manipulate the value or the constructor that has only self as an argument. "
   ]
  },
  {
   "cell_type": "code",
   "execution_count": 3,
   "id": "99bc1a17",
   "metadata": {},
   "outputs": [
    {
     "name": "stdout",
     "output_type": "stream",
     "text": [
      "My name is Joseph and my roll number is 101\n"
     ]
    }
   ],
   "source": [
    "class Student:\n",
    "    \n",
    "    def __init__(self):\n",
    "        self.name = \"None\"\n",
    "        self.roll_num = 0\n",
    "        \n",
    "    def set_data(self, name, roll_num):\n",
    "        self.name = name\n",
    "        self.roll_num = roll_num\n",
    "        \n",
    "    def display(self):\n",
    "        print(f\"My name is {self.name} and my roll number is {self.roll_num}\")\n",
    "\n",
    "st = Student()\n",
    "st.set_data(\"Joseph\", 101)\n",
    "st.display()"
   ]
  }
 ],
 "metadata": {
  "kernelspec": {
   "display_name": "Python 3 (ipykernel)",
   "language": "python",
   "name": "python3"
  },
  "language_info": {
   "codemirror_mode": {
    "name": "ipython",
    "version": 3
   },
   "file_extension": ".py",
   "mimetype": "text/x-python",
   "name": "python",
   "nbconvert_exporter": "python",
   "pygments_lexer": "ipython3",
   "version": "3.10.9"
  }
 },
 "nbformat": 4,
 "nbformat_minor": 5
}
