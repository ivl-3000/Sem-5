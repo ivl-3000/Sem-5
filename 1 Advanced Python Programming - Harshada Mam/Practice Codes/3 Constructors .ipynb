{
 "cells": [
  {
   "attachments": {},
   "cell_type": "markdown",
   "id": "6abfcdc6",
   "metadata": {},
   "source": [
    "# Constructor\n",
    "### In Python, a constructor is a special method used for initializing objects of a class.\n",
    "### The constructor method has a predefined name in Python '__init__()', and it defined within the class. "
   ]
  },
  {
   "attachments": {},
   "cell_type": "markdown",
   "id": "0ed1ded0",
   "metadata": {},
   "source": [
    "# Default Constructor: \n",
    "### A default constructor is a constructor that doesn't take any parameters.\n",
    "### It is provided by default if you don't define any constructor in your class.\n",
    "### The default constructor initializes the instance variables with their default values."
   ]
  },
  {
   "attachments": {},
   "cell_type": "markdown",
   "id": "ec48544c",
   "metadata": {},
   "source": [
    "### Example 1"
   ]
  },
  {
   "cell_type": "code",
   "execution_count": 1,
   "id": "70d2d432",
   "metadata": {},
   "outputs": [
    {
     "name": "stdout",
     "output_type": "stream",
     "text": [
      "My name is Joseph and my roll number is 101\n"
     ]
    }
   ],
   "source": [
    "class Student:\n",
    "    \n",
    "    def __init__(self):\n",
    "        self.name = \"Joseph\"  \n",
    "        self.roll_num = 101  \n",
    "        \n",
    "    def display(self):\n",
    "        print(f\"My name is {self.name} and my roll number is {self.roll_num}\")\n",
    "\n",
    "st = Student()  \n",
    "st.display() "
   ]
  },
  {
   "attachments": {},
   "cell_type": "markdown",
   "id": "ed081b19",
   "metadata": {},
   "source": [
    "### Example 2"
   ]
  },
  {
   "cell_type": "code",
   "execution_count": 2,
   "id": "09fe579d",
   "metadata": {},
   "outputs": [
    {
     "name": "stdout",
     "output_type": "stream",
     "text": [
      "This car is a 2022 Toyota Corolla\n"
     ]
    }
   ],
   "source": [
    "class Car: \n",
    "    \n",
    "    def __init__(self):\n",
    "        self.make = \"Toyota\"\n",
    "        self.model = \"Corolla\"\n",
    "        self.year = 2022\n",
    "        \n",
    "    def display(self):\n",
    "        print(f\"This car is a {self.year} {self.make} {self.model}\")\n",
    "\n",
    "car = Car()\n",
    "car.display()"
   ]
  },
  {
   "attachments": {},
   "cell_type": "markdown",
   "id": "a3257da0",
   "metadata": {},
   "source": [
    "### Example 3"
   ]
  },
  {
   "cell_type": "code",
   "execution_count": 3,
   "id": "f51567cf",
   "metadata": {},
   "outputs": [
    {
     "name": "stdout",
     "output_type": "stream",
     "text": [
      "Rectangle width is 5, height is 3 and the area is 15\n"
     ]
    }
   ],
   "source": [
    "class Rectangle:\n",
    "    \n",
    "    def __init__(self):\n",
    "        self.width = 5\n",
    "        self.height = 3\n",
    "    \n",
    "    def calculate_area(self):\n",
    "        return self.width * self.height\n",
    "    \n",
    "    def display(self):\n",
    "        print(f\"Rectangle width is {self.width}, height is {self.height} and the area is {self.calculate_area()}\")\n",
    "\n",
    "rectangle = Rectangle()\n",
    "rectangle.display()"
   ]
  },
  {
   "attachments": {},
   "cell_type": "markdown",
   "id": "eab978b5",
   "metadata": {},
   "source": [
    "### Example 4"
   ]
  },
  {
   "cell_type": "code",
   "execution_count": 4,
   "id": "4775babc",
   "metadata": {},
   "outputs": [
    {
     "name": "stdout",
     "output_type": "stream",
     "text": [
      "Employee Name is John Smith, ID is 12345 and the Salary is 8000\n"
     ]
    }
   ],
   "source": [
    "class Employee:\n",
    "    \n",
    "    def __init__(self):\n",
    "        self.name = \"John Smith\"\n",
    "        self.employee_id = 12345\n",
    "        self.salary = 8000\n",
    "        \n",
    "    def display(self):\n",
    "        print(f\"Employee Name is {self.name}, ID is {self.employee_id} and the Salary is {self.salary}\")\n",
    "\n",
    "employee = Employee()\n",
    "employee.display()"
   ]
  },
  {
   "attachments": {},
   "cell_type": "markdown",
   "id": "f98391a4",
   "metadata": {},
   "source": [
    "### Example 5"
   ]
  },
  {
   "cell_type": "code",
   "execution_count": 5,
   "id": "d770ab2c",
   "metadata": {},
   "outputs": [
    {
     "name": "stdout",
     "output_type": "stream",
     "text": [
      "Mobile name is Iphone, price is 80000.0, quantity is 5 and the total is 400000.0\n"
     ]
    }
   ],
   "source": [
    "class Product:\n",
    "    \n",
    "    def __init__(self):\n",
    "        self.name = \"Iphone\"\n",
    "        self.price = 80000.0\n",
    "        self.quantity = 5\n",
    "\n",
    "    def calculate_total_cost(self):\n",
    "        total_cost = self.price * self.quantity\n",
    "        return total_cost\n",
    "    \n",
    "    def display(self):\n",
    "        print(f\"Mobile name is {self.name}, price is {self.price}, quantity is {self.quantity} and the total is {self.calculate_total_cost()}\")\n",
    "\n",
    "product = Product()\n",
    "product.display()"
   ]
  },
  {
   "attachments": {},
   "cell_type": "markdown",
   "id": "a981441f",
   "metadata": {},
   "source": [
    "# Parameterized Constructors:\n",
    "### A parameterized constructor is a constructor that takes one or more parameters.\n",
    "### The parameterized constructor takes its first argument as a reference to the instance being constructed known as self and the rest of the arguments are provided by the programmer."
   ]
  },
  {
   "attachments": {},
   "cell_type": "markdown",
   "id": "1d91d750",
   "metadata": {},
   "source": [
    "### Example 1"
   ]
  },
  {
   "cell_type": "code",
   "execution_count": 6,
   "id": "72446559",
   "metadata": {},
   "outputs": [
    {
     "name": "stdout",
     "output_type": "stream",
     "text": [
      "My name is Joseph and my roll number is 101\n"
     ]
    }
   ],
   "source": [
    "class Student:\n",
    "    \n",
    "    def __init__(self, name, roll_num):\n",
    "        self.name = name  \n",
    "        self.roll_num = roll_num\n",
    "        \n",
    "    def display(self):\n",
    "        print(f\"My name is {self.name} and my roll number is {self.roll_num}\")\n",
    "\n",
    "st = Student(\"Joseph\", 101)  \n",
    "st.display()"
   ]
  },
  {
   "attachments": {},
   "cell_type": "markdown",
   "id": "6a348ba4",
   "metadata": {},
   "source": [
    "### Example 2"
   ]
  },
  {
   "cell_type": "code",
   "execution_count": 13,
   "id": "d7486a96",
   "metadata": {},
   "outputs": [
    {
     "name": "stdout",
     "output_type": "stream",
     "text": [
      "Rectangle width is 20, lenght is 10 and the area is 200\n"
     ]
    }
   ],
   "source": [
    "class Rectangle:\n",
    "    \n",
    "    def __init__(self,lenght,width):\n",
    "        self.lenght = lenght\n",
    "        self.width = width\n",
    "    \n",
    "    def calculate_area(self):\n",
    "        return self.lenght*self.width\n",
    "\n",
    "    def display(self):\n",
    "        print(f\"Rectangle width is {self.width}, lenght is {self.lenght} and the area is {self.calculate_area()}\")\n",
    "    \n",
    "my_rectangle = Rectangle(10,20)\n",
    "my_rectangle.display()"
   ]
  },
  {
   "attachments": {},
   "cell_type": "markdown",
   "id": "2488076d",
   "metadata": {},
   "source": [
    "### Example 3"
   ]
  },
  {
   "cell_type": "code",
   "execution_count": 14,
   "id": "28ff7ee2",
   "metadata": {},
   "outputs": [
    {
     "name": "stdout",
     "output_type": "stream",
     "text": [
      "Employee Name: John Doe\n",
      "Employee ID: 12345\n",
      "Department: Human Resources\n"
     ]
    }
   ],
   "source": [
    "class Employee:\n",
    "    \n",
    "    def __init__(self, name, employee_id, department):\n",
    "        self.name = name\n",
    "        self.employee_id = employee_id\n",
    "        self.department = department\n",
    "\n",
    "    def display_info(self):\n",
    "        print(f\"Employee Name: {self.name}\\nEmployee ID: {self.employee_id}\\nDepartment: {self.department}\")\n",
    "\n",
    "john_doe = Employee(\"John Doe\", 12345, \"Human Resources\")\n",
    "john_doe.display_info()"
   ]
  },
  {
   "attachments": {},
   "cell_type": "markdown",
   "id": "eacf0edd",
   "metadata": {},
   "source": [
    "### Example 4"
   ]
  },
  {
   "cell_type": "code",
   "execution_count": 20,
   "id": "572f22e8",
   "metadata": {},
   "outputs": [
    {
     "name": "stdout",
     "output_type": "stream",
     "text": [
      "Mobile name is Iphone, price is 500, quantity is 2 and the total is 1000\n"
     ]
    }
   ],
   "source": [
    "class Product:\n",
    "    \n",
    "    def __init__(self, name, price, quantity):\n",
    "        self.name = name\n",
    "        self.price = price\n",
    "        self.quantity = quantity\n",
    "\n",
    "    def calculate_total_cost(self):\n",
    "        return self.price * self.quantity\n",
    "    \n",
    "    def display(self):\n",
    "        print(f\"Mobile name is {self.name}, price is {self.price}, quantity is {self.quantity} and the total is {self.calculate_total_cost()}\")\n",
    "\n",
    "my_product = Product(\"Iphone\", 500, 2)\n",
    "my_product.display()"
   ]
  },
  {
   "attachments": {},
   "cell_type": "markdown",
   "id": "59cb4d09",
   "metadata": {},
   "source": [
    "### Example 5"
   ]
  },
  {
   "cell_type": "code",
   "execution_count": 25,
   "id": "bb6e01ce",
   "metadata": {},
   "outputs": [
    {
     "name": "stdout",
     "output_type": "stream",
     "text": [
      "Account Number: 123456\n",
      "Balance: 1300\n"
     ]
    }
   ],
   "source": [
    "class BankAccount:\n",
    "    \n",
    "    def __init__(self,account_number,balance):\n",
    "        self.account_number = account_number\n",
    "        self.balance = balance\n",
    "    \n",
    "    def deposit(self,amount):\n",
    "        self.balance += amount\n",
    "        \n",
    "    def withdraw(self,amount):\n",
    "        if self.balance > amount:\n",
    "            self.balance -= amount\n",
    "        else:\n",
    "            print(\"Insufficient Balance in Account\")\n",
    "    \n",
    "    def display(self):\n",
    "        print(f\"Account Number: {self.account_number}\")\n",
    "        print(f\"Balance: {self.balance}\")\n",
    "        \n",
    "bank = BankAccount(123456,1000)\n",
    "bank.deposit(500)\n",
    "bank.withdraw(200)\n",
    "bank.display()"
   ]
  },
  {
   "attachments": {},
   "cell_type": "markdown",
   "id": "0645feef",
   "metadata": {},
   "source": [
    "# Non-Parameterized Constructor\n",
    "### A non-parameterized constructor is a constructor that doesn't take any parameters.\n",
    "### The non-parameterized constructor uses when we do not want to manipulate the value or the constructor that has only self as an argument. "
   ]
  },
  {
   "cell_type": "code",
   "execution_count": 8,
   "id": "52aaeb9d",
   "metadata": {},
   "outputs": [
    {
     "name": "stdout",
     "output_type": "stream",
     "text": [
      "My name is Joseph and my roll number is 101\n"
     ]
    }
   ],
   "source": [
    "class Student:\n",
    "    \n",
    "    def __init__(self):\n",
    "        self.name = \"None\"\n",
    "        self.roll_num = 0\n",
    "        \n",
    "    def set_data(self, name, roll_num):\n",
    "        self.name = name\n",
    "        self.roll_num = roll_num\n",
    "        \n",
    "    def display(self):\n",
    "        print(f\"My name is {self.name} and my roll number is {self.roll_num}\")\n",
    "\n",
    "st = Student()\n",
    "st.set_data(\"Joseph\", 101)\n",
    "st.display()"
   ]
  }
 ],
 "metadata": {
  "kernelspec": {
   "display_name": "Python 3 (ipykernel)",
   "language": "python",
   "name": "python3"
  },
  "language_info": {
   "codemirror_mode": {
    "name": "ipython",
    "version": 3
   },
   "file_extension": ".py",
   "mimetype": "text/x-python",
   "name": "python",
   "nbconvert_exporter": "python",
   "pygments_lexer": "ipython3",
   "version": "3.10.9"
  }
 },
 "nbformat": 4,
 "nbformat_minor": 5
}
