{
 "cells": [
  {
   "cell_type": "markdown",
   "id": "146b4848",
   "metadata": {},
   "source": [
    "# House Price Analysis"
   ]
  },
  {
   "cell_type": "raw",
   "id": "ef5f1bcb",
   "metadata": {},
   "source": [
    "About Dataset\n",
    "This data set was very useful when I worked on a project .As a Kaggle contributer I am uploading for others to gain knowledge by implementing algorithms.\n",
    "Attributes:\n",
    "1.Id(int)\n",
    "2.Date(int)\n",
    "3.number of bedrooms(int)\n",
    "4.number of bathrooms(float)-convert it into 'int' ,just to give you some practice!\n",
    "5.living area(int)\n",
    "6.lot area(int)\n",
    "7.water front present(float)-convert it into 'int'\n",
    "8.number of views(int)\n",
    "and so on…."
   ]
  },
  {
   "cell_type": "code",
   "execution_count": 1,
   "id": "5fa94b97",
   "metadata": {},
   "outputs": [],
   "source": [
    "# Import the packages\n",
    "import numpy as np\n",
    "import pandas as pd"
   ]
  },
  {
   "cell_type": "code",
   "execution_count": null,
   "id": "ed6d698e",
   "metadata": {},
   "outputs": [],
   "source": [
    "# load the dataset\n",
    "House_Price_Dataset = pd.read_csv()"
   ]
  }
 ],
 "metadata": {
  "kernelspec": {
   "display_name": "Python 3 (ipykernel)",
   "language": "python",
   "name": "python3"
  },
  "language_info": {
   "codemirror_mode": {
    "name": "ipython",
    "version": 3
   },
   "file_extension": ".py",
   "mimetype": "text/x-python",
   "name": "python",
   "nbconvert_exporter": "python",
   "pygments_lexer": "ipython3",
   "version": "3.10.9"
  }
 },
 "nbformat": 4,
 "nbformat_minor": 5
}
