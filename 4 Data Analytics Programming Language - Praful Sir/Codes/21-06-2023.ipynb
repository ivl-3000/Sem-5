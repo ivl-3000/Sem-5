{
 "cells": [
  {
   "cell_type": "code",
   "execution_count": 1,
   "id": "ae13e902",
   "metadata": {},
   "outputs": [],
   "source": [
    "# Importing numpy library for numerical computations\n",
    "import numpy as np\n",
    "\n",
    "# Importing pandas library for data manipulation and analysis\n",
    "import pandas as pd"
   ]
  },
  {
   "cell_type": "code",
   "execution_count": 2,
   "id": "2e0a38b6",
   "metadata": {
    "scrolled": true
   },
   "outputs": [
    {
     "data": {
      "text/plain": [
       "a    0.756201\n",
       "b    1.468517\n",
       "c   -0.947335\n",
       "d    0.002556\n",
       "e   -0.141201\n",
       "dtype: float64"
      ]
     },
     "execution_count": 2,
     "metadata": {},
     "output_type": "execute_result"
    }
   ],
   "source": [
    "# Creating a Series with random values\n",
    "series = pd.Series(np.random.randn(5), index=[\"a\", \"b\", \"c\", \"d\", \"e\"])\n",
    "\n",
    "# Outputting the Series\n",
    "series"
   ]
  },
  {
   "cell_type": "code",
   "execution_count": 3,
   "id": "c1a71052",
   "metadata": {},
   "outputs": [
    {
     "data": {
      "text/plain": [
       "a    0.830969\n",
       "b   -0.470107\n",
       "c   -0.208863\n",
       "d    1.089805\n",
       "e   -0.051070\n",
       "f    0.552920\n",
       "dtype: float64"
      ]
     },
     "execution_count": 3,
     "metadata": {},
     "output_type": "execute_result"
    }
   ],
   "source": [
    "# Creating a Series with random values\n",
    "series = pd.Series(np.random.randn(6), index=[\"a\", \"b\", \"c\", \"d\", \"e\", \"f\"])\n",
    "\n",
    "# Outputting the Series\n",
    "series"
   ]
  },
  {
   "cell_type": "code",
   "execution_count": 4,
   "id": "5e3a2ada",
   "metadata": {},
   "outputs": [
    {
     "data": {
      "text/plain": [
       "0   -0.341890\n",
       "1    0.747053\n",
       "2    1.331001\n",
       "dtype: float64"
      ]
     },
     "execution_count": 4,
     "metadata": {},
     "output_type": "execute_result"
    }
   ],
   "source": [
    "# Creating a Series with random values\n",
    "series = pd.Series(np.random.randn(3))\n",
    "\n",
    "# Outputting the Series\n",
    "series"
   ]
  },
  {
   "cell_type": "code",
   "execution_count": 5,
   "id": "c553ab39",
   "metadata": {
    "scrolled": true
   },
   "outputs": [
    {
     "data": {
      "text/plain": [
       "b    1\n",
       "a    0\n",
       "c    2\n",
       "dtype: int64"
      ]
     },
     "execution_count": 5,
     "metadata": {},
     "output_type": "execute_result"
    }
   ],
   "source": [
    "# Creating a Series from a dictionary\n",
    "dict = {\"b\": 1, \"a\": 0, \"c\": 2}\n",
    "series = pd.Series(dict)\n",
    "\n",
    "# Outputting the Series\n",
    "series"
   ]
  },
  {
   "cell_type": "code",
   "execution_count": 6,
   "id": "6d93754e",
   "metadata": {},
   "outputs": [
    {
     "data": {
      "text/plain": [
       "b    1.0\n",
       "a    0.0\n",
       "c    2.0\n",
       "d    NaN\n",
       "dtype: float64"
      ]
     },
     "execution_count": 6,
     "metadata": {},
     "output_type": "execute_result"
    }
   ],
   "source": [
    "# Creating a Series from a dictionary\n",
    "dict = {\"b\": 1, \"a\": 0, \"c\": 2, \"d\": np.nan}\n",
    "series = pd.Series(dict)\n",
    "\n",
    "# Outputting the Series\n",
    "series\n",
    "\n",
    "# NaN = null value"
   ]
  },
  {
   "cell_type": "code",
   "execution_count": 7,
   "id": "94f83687",
   "metadata": {},
   "outputs": [
    {
     "data": {
      "text/plain": [
       "a    1\n",
       "B    3\n",
       "D    5\n",
       "A    7\n",
       "dtype: int64"
      ]
     },
     "execution_count": 7,
     "metadata": {},
     "output_type": "execute_result"
    }
   ],
   "source": [
    "# Creating a Series from a dictionary\n",
    "dict = {\"a\": 1, \"B\": 3, \"D\": 5, \"A\": 7}\n",
    "series = pd.Series(dict)\n",
    "\n",
    "# Outputting the Series\n",
    "series"
   ]
  },
  {
   "cell_type": "code",
   "execution_count": 8,
   "id": "1d12b0ad",
   "metadata": {},
   "outputs": [
    {
     "data": {
      "text/plain": [
       "Name     Nisarg\n",
       "Age          20\n",
       "Marks       250\n",
       "dtype: object"
      ]
     },
     "execution_count": 8,
     "metadata": {},
     "output_type": "execute_result"
    }
   ],
   "source": [
    "# Creating a Series from a dictionary\n",
    "dict = {\"Name\": \"Nisarg\", \"Age\": 20, \"Marks\": \"250\"}\n",
    "series = pd.Series(dict)\n",
    "\n",
    "# Outputting the Series\n",
    "series"
   ]
  },
  {
   "cell_type": "code",
   "execution_count": 9,
   "id": "2f514ef0",
   "metadata": {},
   "outputs": [
    {
     "data": {
      "text/plain": [
       "Name       NaN\n",
       "Age       27.0\n",
       "Marks    280.0\n",
       "dtype: float64"
      ]
     },
     "execution_count": 9,
     "metadata": {},
     "output_type": "execute_result"
    }
   ],
   "source": [
    "# Creating a Series from a dictionary\n",
    "dict = {\"Name\": np.nan, \"Age\": 27, \"Marks\": 280}\n",
    "series = pd.Series(dict)\n",
    "\n",
    "# Outputting the Series\n",
    "series"
   ]
  }
 ],
 "metadata": {
  "kernelspec": {
   "display_name": "Python 3 (ipykernel)",
   "language": "python",
   "name": "python3"
  },
  "language_info": {
   "codemirror_mode": {
    "name": "ipython",
    "version": 3
   },
   "file_extension": ".py",
   "mimetype": "text/x-python",
   "name": "python",
   "nbconvert_exporter": "python",
   "pygments_lexer": "ipython3",
   "version": "3.10.9"
  }
 },
 "nbformat": 4,
 "nbformat_minor": 5
}
