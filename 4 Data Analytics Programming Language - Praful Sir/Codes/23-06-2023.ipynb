{
 "cells": [
  {
   "cell_type": "code",
   "execution_count": 1,
   "id": "3c3bbf0c",
   "metadata": {},
   "outputs": [],
   "source": [
    "# Importing numpy library for numerical computations\n",
    "import numpy as np\n",
    "\n",
    "# Importing pandas library for data manipulation and analysis\n",
    "import pandas as pd"
   ]
  },
  {
   "cell_type": "code",
   "execution_count": 2,
   "id": "6c1498a9",
   "metadata": {},
   "outputs": [],
   "source": [
    "# Single Dimentional Data Structure\n",
    "a = [1, 2, 3, 4, 5]"
   ]
  },
  {
   "cell_type": "code",
   "execution_count": 3,
   "id": "61495bf1",
   "metadata": {},
   "outputs": [
    {
     "data": {
      "text/plain": [
       "0   -0.459196\n",
       "1    0.343915\n",
       "2    0.739332\n",
       "3    2.489783\n",
       "4    0.222081\n",
       "dtype: float64"
      ]
     },
     "execution_count": 3,
     "metadata": {},
     "output_type": "execute_result"
    }
   ],
   "source": [
    "b = np.random.randn(5)\n",
    "series1 = pd.Series(b)\n",
    "series1"
   ]
  },
  {
   "cell_type": "code",
   "execution_count": 4,
   "id": "dd6778fd",
   "metadata": {},
   "outputs": [
    {
     "data": {
      "text/plain": [
       "0    1\n",
       "1    2\n",
       "2    3\n",
       "3    4\n",
       "4    5\n",
       "dtype: int32"
      ]
     },
     "execution_count": 4,
     "metadata": {},
     "output_type": "execute_result"
    }
   ],
   "source": [
    "# Operations on list\n",
    "# Create a list\n",
    "A = [1, 2, 3, 4, 5]\n",
    "\n",
    "# Convert the list into an array\n",
    "arr = np.array(A)\n",
    "\n",
    "# Convert the array into a series\n",
    "series2 = pd.Series(arr)\n",
    "\n",
    "series2"
   ]
  },
  {
   "cell_type": "code",
   "execution_count": 5,
   "id": "eae5f09f",
   "metadata": {},
   "outputs": [
    {
     "data": {
      "text/plain": [
       "0    11\n",
       "1    12\n",
       "2    13\n",
       "3    14\n",
       "4    15\n",
       "dtype: int32"
      ]
     },
     "execution_count": 5,
     "metadata": {},
     "output_type": "execute_result"
    }
   ],
   "source": [
    "# Perform the Arithmatics operations on Series\n",
    "# Addition \n",
    "Add = series2 + 10\n",
    "Add"
   ]
  },
  {
   "cell_type": "code",
   "execution_count": 6,
   "id": "9214648e",
   "metadata": {},
   "outputs": [
    {
     "data": {
      "text/plain": [
       "0     20\n",
       "1     40\n",
       "2     60\n",
       "3     80\n",
       "4    100\n",
       "dtype: int32"
      ]
     },
     "execution_count": 6,
     "metadata": {},
     "output_type": "execute_result"
    }
   ],
   "source": [
    "# Perform the Arithmatics operations on Series\n",
    "# Multiplication \n",
    "Mul = series2 * 20\n",
    "Mul"
   ]
  },
  {
   "cell_type": "code",
   "execution_count": 7,
   "id": "9909c773",
   "metadata": {},
   "outputs": [
    {
     "data": {
      "text/plain": [
       "0   -4\n",
       "1   -3\n",
       "2   -2\n",
       "3   -1\n",
       "4    0\n",
       "dtype: int32"
      ]
     },
     "execution_count": 7,
     "metadata": {},
     "output_type": "execute_result"
    }
   ],
   "source": [
    "# Perform the Arithmatics operations on Series\n",
    "# Substraction \n",
    "Sub = series2 - 5\n",
    "Sub"
   ]
  },
  {
   "cell_type": "code",
   "execution_count": 8,
   "id": "074546a3",
   "metadata": {},
   "outputs": [
    {
     "data": {
      "text/plain": [
       "0    0.5\n",
       "1    1.0\n",
       "2    1.5\n",
       "3    2.0\n",
       "4    2.5\n",
       "dtype: float64"
      ]
     },
     "execution_count": 8,
     "metadata": {},
     "output_type": "execute_result"
    }
   ],
   "source": [
    "# Perform the Arithmatics operations on Series\n",
    "# Divison \n",
    "Div = series2 / 2\n",
    "Div"
   ]
  },
  {
   "cell_type": "code",
   "execution_count": 9,
   "id": "b0c11746",
   "metadata": {},
   "outputs": [
    {
     "name": "stdout",
     "output_type": "stream",
     "text": [
      "[10, 'Abc', 20, 30]\n",
      "['10' 'Abc' '20' '30']\n",
      "0     10\n",
      "1    Abc\n",
      "2     20\n",
      "3     30\n",
      "dtype: object\n"
     ]
    }
   ],
   "source": [
    "# Try some malfunctioning Operations\n",
    "# Add a String in list\n",
    "\n",
    "list_1 = [10, \"Abc\", 20, 30]\n",
    "print(list_1)\n",
    "\n",
    "# Converting in array\n",
    "array_2 = np.array(list_1)\n",
    "print(array_2)\n",
    "\n",
    "# Convert it into series\n",
    "series4 = pd.Series(array_2)\n",
    "print(series4)"
   ]
  }
 ],
 "metadata": {
  "kernelspec": {
   "display_name": "Python 3 (ipykernel)",
   "language": "python",
   "name": "python3"
  },
  "language_info": {
   "codemirror_mode": {
    "name": "ipython",
    "version": 3
   },
   "file_extension": ".py",
   "mimetype": "text/x-python",
   "name": "python",
   "nbconvert_exporter": "python",
   "pygments_lexer": "ipython3",
   "version": "3.10.9"
  }
 },
 "nbformat": 4,
 "nbformat_minor": 5
}
