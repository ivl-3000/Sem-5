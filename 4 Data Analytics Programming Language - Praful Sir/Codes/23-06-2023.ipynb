{
 "cells": [
  {
   "cell_type": "code",
   "execution_count": 1,
   "id": "3c3bbf0c",
   "metadata": {},
   "outputs": [],
   "source": [
    "# Importing numpy library for numerical computations\n",
    "import numpy as np\n",
    "\n",
    "# Importing pandas library for data manipulation and analysis\n",
    "import pandas as pd"
   ]
  },
  {
   "cell_type": "markdown",
   "id": "927d5478",
   "metadata": {},
   "source": [
    "# List Example (Single Dimential)\n",
    "### This code demonstrates the usage of a list."
   ]
  },
  {
   "cell_type": "code",
   "execution_count": 2,
   "id": "6c1498a9",
   "metadata": {},
   "outputs": [
    {
     "name": "stdout",
     "output_type": "stream",
     "text": [
      "[1, 2, 3, 4, 5]\n"
     ]
    }
   ],
   "source": [
    "# Creating a List\n",
    "list = [1, 2, 3, 4, 5]\n",
    "\n",
    "# Print the List\n",
    "print(list)"
   ]
  },
  {
   "cell_type": "markdown",
   "id": "aa46cd8b",
   "metadata": {},
   "source": [
    "# Generating a Random Series\n",
    "### This code generates a random series using NumPy and converts it into a Pandas Series."
   ]
  },
  {
   "cell_type": "code",
   "execution_count": 3,
   "id": "61495bf1",
   "metadata": {},
   "outputs": [
    {
     "name": "stdout",
     "output_type": "stream",
     "text": [
      "0    2.073046\n",
      "1    0.269409\n",
      "2    1.339434\n",
      "3   -0.595878\n",
      "4    0.209045\n",
      "dtype: float64\n"
     ]
    }
   ],
   "source": [
    "# We start by using NumPy's random.randn() function to generate an array of random numbers.\n",
    "a = np.random.randn(5)\n",
    "\n",
    "# Next, we convert the NumPy array into a Pandas Series.\n",
    "series = pd.Series(a)\n",
    "\n",
    "# Finally, we print the resulting Pandas Series.\n",
    "print(series)"
   ]
  },
  {
   "cell_type": "markdown",
   "id": "0b62a518",
   "metadata": {},
   "source": [
    "# Converting List to Pandas Series\n",
    "### This code demonstrates how to convert a list to a Pandas Series using NumPy."
   ]
  },
  {
   "cell_type": "code",
   "execution_count": 14,
   "id": "dd6778fd",
   "metadata": {},
   "outputs": [
    {
     "name": "stdout",
     "output_type": "stream",
     "text": [
      "0    1\n",
      "1    2\n",
      "2    3\n",
      "3    4\n",
      "4    5\n",
      "dtype: int32\n"
     ]
    }
   ],
   "source": [
    "# We start by creating a list with some elements.\n",
    "a = [1, 2, 3, 4, 5]\n",
    "\n",
    "# Next, we convert the list into a NumPy array.\n",
    "arr = np.array(a)\n",
    "\n",
    "# Finally, we convert the NumPy array into a Pandas Series.\n",
    "series = pd.Series(arr)\n",
    "\n",
    "# We can now print the resulting Pandas Series.\n",
    "print(series)"
   ]
  },
  {
   "cell_type": "markdown",
   "id": "151a0845",
   "metadata": {},
   "source": [
    "# Following are the Arithmetic Operation on Series"
   ]
  },
  {
   "cell_type": "code",
   "execution_count": 15,
   "id": "eae5f09f",
   "metadata": {},
   "outputs": [
    {
     "data": {
      "text/plain": [
       "0    11\n",
       "1    12\n",
       "2    13\n",
       "3    14\n",
       "4    15\n",
       "dtype: int32"
      ]
     },
     "execution_count": 15,
     "metadata": {},
     "output_type": "execute_result"
    }
   ],
   "source": [
    "# Addition \n",
    "Add = series + 10\n",
    "Add"
   ]
  },
  {
   "cell_type": "code",
   "execution_count": 16,
   "id": "9214648e",
   "metadata": {},
   "outputs": [
    {
     "data": {
      "text/plain": [
       "0     20\n",
       "1     40\n",
       "2     60\n",
       "3     80\n",
       "4    100\n",
       "dtype: int32"
      ]
     },
     "execution_count": 16,
     "metadata": {},
     "output_type": "execute_result"
    }
   ],
   "source": [
    "# Multiplication \n",
    "Mul = series * 20\n",
    "Mul"
   ]
  },
  {
   "cell_type": "code",
   "execution_count": 17,
   "id": "9909c773",
   "metadata": {},
   "outputs": [
    {
     "data": {
      "text/plain": [
       "0   -4\n",
       "1   -3\n",
       "2   -2\n",
       "3   -1\n",
       "4    0\n",
       "dtype: int32"
      ]
     },
     "execution_count": 17,
     "metadata": {},
     "output_type": "execute_result"
    }
   ],
   "source": [
    "# Substraction \n",
    "Sub = series - 5\n",
    "Sub"
   ]
  },
  {
   "cell_type": "code",
   "execution_count": 18,
   "id": "074546a3",
   "metadata": {},
   "outputs": [
    {
     "data": {
      "text/plain": [
       "0    0.5\n",
       "1    1.0\n",
       "2    1.5\n",
       "3    2.0\n",
       "4    2.5\n",
       "dtype: float64"
      ]
     },
     "execution_count": 18,
     "metadata": {},
     "output_type": "execute_result"
    }
   ],
   "source": [
    "# Divison \n",
    "Div = series / 2\n",
    "Div"
   ]
  },
  {
   "cell_type": "markdown",
   "id": "f36f0c0a",
   "metadata": {},
   "source": [
    "# Converting List to NumPy Array and Pandas Series\n",
    "### This code demonstrates how to convert a list to a NumPy array and then to a Pandas Series."
   ]
  },
  {
   "cell_type": "code",
   "execution_count": 19,
   "id": "b0c11746",
   "metadata": {},
   "outputs": [
    {
     "name": "stdout",
     "output_type": "stream",
     "text": [
      "Original List: [10, 'Abc', 20, 30]\n",
      "NumPy Array: ['10' 'Abc' '20' '30']\n",
      "Pandas Series: 0     10\n",
      "1    Abc\n",
      "2     20\n",
      "3     30\n",
      "dtype: object\n"
     ]
    }
   ],
   "source": [
    "# We start by creating a list with mixed data types.\n",
    "list = [10, \"Abc\", 20, 30]\n",
    "\n",
    "# Let's print the original list to see its contents.\n",
    "print(\"Original List:\", list)\n",
    "\n",
    "# Next, we convert the list into a NumPy array using np.array().\n",
    "arr = np.array(list)\n",
    "\n",
    "# We can now print the resulting NumPy array.\n",
    "print(\"NumPy Array:\", arr)\n",
    "\n",
    "# Finally, we convert the NumPy array into a Pandas Series.\n",
    "series = pd.Series(arr)\n",
    "\n",
    "# We can print the resulting Pandas Series.\n",
    "print(\"Pandas Series:\", series)"
   ]
  }
 ],
 "metadata": {
  "kernelspec": {
   "display_name": "Python 3 (ipykernel)",
   "language": "python",
   "name": "python3"
  },
  "language_info": {
   "codemirror_mode": {
    "name": "ipython",
    "version": 3
   },
   "file_extension": ".py",
   "mimetype": "text/x-python",
   "name": "python",
   "nbconvert_exporter": "python",
   "pygments_lexer": "ipython3",
   "version": "3.10.9"
  }
 },
 "nbformat": 4,
 "nbformat_minor": 5
}
