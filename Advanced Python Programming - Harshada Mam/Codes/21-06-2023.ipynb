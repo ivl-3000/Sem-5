{
 "cells": [
  {
   "cell_type": "code",
   "execution_count": 2,
   "id": "e01e39a4",
   "metadata": {},
   "outputs": [
    {
     "name": "stdout",
     "output_type": "stream",
     "text": [
      "Id:101\n",
      "Name:Maruti\n"
     ]
    }
   ],
   "source": [
    "# Class & Object\n",
    "\n",
    "# Define a class named \"Cars\"\n",
    "class Cars:\n",
    "    # Class-level attributes\n",
    "    id = 101  # An integer attribute with the value 101\n",
    "    name = \"Maruti\"  # A string attribute with the value \"Maruti\"\n",
    "\n",
    "    # Define a method within the class\n",
    "    def display(gt):\n",
    "        # Print the values of id and name using the provided format string\n",
    "        print(\"Id:%d\\nName:%s\" % (gt.id, gt.name))\n",
    "\n",
    "# Create an instance (object) of the Cars class\n",
    "car = Cars()\n",
    "\n",
    "# Call the display method on the car object\n",
    "car.display()"
   ]
  },
  {
   "cell_type": "code",
   "execution_count": 5,
   "id": "4a99c514",
   "metadata": {},
   "outputs": [
    {
     "name": "stdout",
     "output_type": "stream",
     "text": [
      "Id:101\n",
      "Name:Maruti\n"
     ]
    },
    {
     "ename": "NameError",
     "evalue": "name 'car1' is not defined",
     "output_type": "error",
     "traceback": [
      "\u001b[1;31m---------------------------------------------------------------------------\u001b[0m",
      "\u001b[1;31mNameError\u001b[0m                                 Traceback (most recent call last)",
      "Cell \u001b[1;32mIn[5], line 25\u001b[0m\n\u001b[0;32m     22\u001b[0m \u001b[38;5;28;01mdel\u001b[39;00m car1\n\u001b[0;32m     24\u001b[0m \u001b[38;5;66;03m# Attempt to call the display method on the deleted car1 object\u001b[39;00m\n\u001b[1;32m---> 25\u001b[0m \u001b[43mcar1\u001b[49m\u001b[38;5;241m.\u001b[39mdisplay()\n",
      "\u001b[1;31mNameError\u001b[0m: name 'car1' is not defined"
     ]
    }
   ],
   "source": [
    "# Define a class called \"Cars\"\n",
    "class Cars:\n",
    "    # Class-level attributes\n",
    "    id = 101  # An integer attribute with the value 101\n",
    "    name = \"Maruti\"  # A string attribute with the value \"Maruti\"\n",
    "\n",
    "    # Define a method within the class\n",
    "    def display(gt):\n",
    "        # Print the values of id and name using the provided format string\n",
    "        print(\"Id:%d\\nName:%s\" % (gt.id, gt.name))\n",
    "\n",
    "# Create an instance (object) of the Cars class\n",
    "car = Cars()\n",
    "\n",
    "# Call the display method on the car object\n",
    "car.display()\n",
    "\n",
    "# Create another instance (object) of the Cars class\n",
    "car1 = Cars()\n",
    "\n",
    "# Delete the car1 object\n",
    "del car1\n",
    "\n",
    "# Attempt to call the display method on the deleted car1 object\n",
    "car1.display()"
   ]
  },
  {
   "cell_type": "code",
   "execution_count": 8,
   "id": "8812687e",
   "metadata": {},
   "outputs": [
    {
     "name": "stdout",
     "output_type": "stream",
     "text": [
      "ID: 101 \n",
      "Name: John\n",
      "ID: 102 \n",
      "Name: David\n"
     ]
    }
   ],
   "source": [
    "# Creating the constructor in Python\n",
    "\n",
    "# Define a class named \"Employee\"\n",
    "class Employee:\n",
    "    def __init__(self, name, id):  # Constructor\n",
    "        # Initialize the attributes \"id\" and \"name\" with the provided values\n",
    "        self.id = id\n",
    "        self.name = name\n",
    "        \n",
    "    def display(self):\n",
    "        # Print the values of \"id\" and \"name\" using the provided format string\n",
    "        print(\"ID: %d \\nName: %s\" % (self.id, self.name))\n",
    "        \n",
    "# Create an instance (object) of the Employee class named \"emp1\"\n",
    "emp1 = Employee(\"John\", 101)\n",
    "\n",
    "# Create another instance (object) of the Employee class named \"emp2\"\n",
    "emp2 = Employee(\"David\", 102)\n",
    "\n",
    "# Call the display method on the emp1 object to print its attributes\n",
    "emp1.display()\n",
    "\n",
    "# Call the display method on the emp2 object to print its attributes\n",
    "emp2.display()"
   ]
  },
  {
   "cell_type": "code",
   "execution_count": null,
   "id": "dc595c2e",
   "metadata": {},
   "outputs": [],
   "source": []
  }
 ],
 "metadata": {
  "kernelspec": {
   "display_name": "Python 3 (ipykernel)",
   "language": "python",
   "name": "python3"
  },
  "language_info": {
   "codemirror_mode": {
    "name": "ipython",
    "version": 3
   },
   "file_extension": ".py",
   "mimetype": "text/x-python",
   "name": "python",
   "nbconvert_exporter": "python",
   "pygments_lexer": "ipython3",
   "version": "3.10.9"
  }
 },
 "nbformat": 4,
 "nbformat_minor": 5
}
