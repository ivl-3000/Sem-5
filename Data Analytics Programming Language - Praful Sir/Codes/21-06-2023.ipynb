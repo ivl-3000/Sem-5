{
 "cells": [
  {
   "cell_type": "code",
   "execution_count": 1,
   "id": "ae13e902",
   "metadata": {},
   "outputs": [],
   "source": [
    "import numpy as np\n",
    "import pandas as pd"
   ]
  },
  {
   "cell_type": "code",
   "execution_count": 2,
   "id": "2e0a38b6",
   "metadata": {
    "scrolled": true
   },
   "outputs": [
    {
     "data": {
      "text/plain": [
       "a    1.133622\n",
       "b   -0.736415\n",
       "c    0.208050\n",
       "d   -1.517578\n",
       "e    1.083806\n",
       "dtype: float64"
      ]
     },
     "execution_count": 2,
     "metadata": {},
     "output_type": "execute_result"
    }
   ],
   "source": [
    "s1 = pd.Series(np.random.randn(5), index=[\"a\", \"b\", \"c\", \"d\", \"e\"])\n",
    "\n",
    "s1"
   ]
  },
  {
   "cell_type": "code",
   "execution_count": 3,
   "id": "c1a71052",
   "metadata": {},
   "outputs": [
    {
     "data": {
      "text/plain": [
       "a   -2.558379\n",
       "b   -0.684006\n",
       "c   -0.441423\n",
       "d   -0.605079\n",
       "e   -0.967288\n",
       "f   -0.964517\n",
       "dtype: float64"
      ]
     },
     "execution_count": 3,
     "metadata": {},
     "output_type": "execute_result"
    }
   ],
   "source": [
    "s2 = pd.Series(np.random.randn(6), index=[\"a\", \"b\", \"c\", \"d\", \"e\", \"f\"])\n",
    "\n",
    "s2"
   ]
  },
  {
   "cell_type": "code",
   "execution_count": 4,
   "id": "5e3a2ada",
   "metadata": {},
   "outputs": [
    {
     "data": {
      "text/plain": [
       "0   -0.278729\n",
       "1    1.096874\n",
       "2   -1.330687\n",
       "dtype: float64"
      ]
     },
     "execution_count": 4,
     "metadata": {},
     "output_type": "execute_result"
    }
   ],
   "source": [
    "s3 = pd.Series(np.random.randn(3))\n",
    "\n",
    "s3"
   ]
  },
  {
   "cell_type": "code",
   "execution_count": 5,
   "id": "c553ab39",
   "metadata": {
    "scrolled": true
   },
   "outputs": [
    {
     "data": {
      "text/plain": [
       "b    1\n",
       "a    0\n",
       "c    2\n",
       "dtype: int64"
      ]
     },
     "execution_count": 5,
     "metadata": {},
     "output_type": "execute_result"
    }
   ],
   "source": [
    "dict = {\"b\":1, \"a\":0, \"c\":2}\n",
    "\n",
    "pd.Series(dict)"
   ]
  },
  {
   "cell_type": "code",
   "execution_count": 6,
   "id": "613ce865",
   "metadata": {},
   "outputs": [
    {
     "data": {
      "text/plain": [
       "b    1.0\n",
       "a    0.0\n",
       "c    2.0\n",
       "d    NaN\n",
       "dtype: float64"
      ]
     },
     "execution_count": 6,
     "metadata": {},
     "output_type": "execute_result"
    }
   ],
   "source": [
    "dict1 = {\"b\":1, \"a\":0, \"c\":2, \"d\":np.nan}\n",
    "\n",
    "pd.Series(dict1)"
   ]
  },
  {
   "cell_type": "code",
   "execution_count": 7,
   "id": "6d93754e",
   "metadata": {},
   "outputs": [],
   "source": [
    "# nan = null value"
   ]
  },
  {
   "cell_type": "code",
   "execution_count": 8,
   "id": "94f83687",
   "metadata": {},
   "outputs": [
    {
     "data": {
      "text/plain": [
       "a    1\n",
       "B    3\n",
       "D    5\n",
       "A    7\n",
       "dtype: int64"
      ]
     },
     "execution_count": 8,
     "metadata": {},
     "output_type": "execute_result"
    }
   ],
   "source": [
    "# Create one dictionary\n",
    "dict2 = {\"a\":1, \"B\":3, \"D\":5, \"A\":7}\n",
    "\n",
    "# Convert this in Series\n",
    "series2 = pd.Series(dict2)\n",
    "\n",
    "#Print the series\n",
    "series2"
   ]
  },
  {
   "cell_type": "code",
   "execution_count": 9,
   "id": "1d12b0ad",
   "metadata": {},
   "outputs": [
    {
     "data": {
      "text/plain": [
       "Name     Aayush\n",
       "Age          20\n",
       "Marks       250\n",
       "dtype: object"
      ]
     },
     "execution_count": 9,
     "metadata": {},
     "output_type": "execute_result"
    }
   ],
   "source": [
    "# Create oe Dictionary\n",
    "\n",
    "dict3 = {\"Name\":\"Aayush\", \"Age\":20, \"Marks\":\"250\"}\n",
    "\n",
    "# Convert this in Series\n",
    "\n",
    "series3 = pd.Series(dict3)\n",
    "\n",
    "# Print the Series\n",
    "\n",
    "#You can also use (print)\n",
    "series3"
   ]
  },
  {
   "cell_type": "code",
   "execution_count": 10,
   "id": "2f514ef0",
   "metadata": {},
   "outputs": [
    {
     "data": {
      "text/plain": [
       "Name       NaN\n",
       "Age       27.0\n",
       "Marks    280.0\n",
       "dtype: float64"
      ]
     },
     "execution_count": 10,
     "metadata": {},
     "output_type": "execute_result"
    }
   ],
   "source": [
    "# Create the dictionary with NaN\n",
    "dict4 = {\"Name\":np.nan,\"Age\":27, \"Marks\":280}\n",
    "\n",
    "# Convert it into series\n",
    "\n",
    "series4 = pd.Series(dict4)\n",
    "\n",
    "series4"
   ]
  }
 ],
 "metadata": {
  "kernelspec": {
   "display_name": "Python 3 (ipykernel)",
   "language": "python",
   "name": "python3"
  },
  "language_info": {
   "codemirror_mode": {
    "name": "ipython",
    "version": 3
   },
   "file_extension": ".py",
   "mimetype": "text/x-python",
   "name": "python",
   "nbconvert_exporter": "python",
   "pygments_lexer": "ipython3",
   "version": "3.10.9"
  }
 },
 "nbformat": 4,
 "nbformat_minor": 5
}
